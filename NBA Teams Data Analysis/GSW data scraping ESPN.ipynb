{
 "cells": [
  {
   "cell_type": "code",
   "execution_count": 5,
   "metadata": {},
   "outputs": [],
   "source": [
    "from bs4 import BeautifulSoup\n",
    "import requests as uReq"
   ]
  },
  {
   "cell_type": "markdown",
   "metadata": {},
   "source": [
    "### Golden State Warriors"
   ]
  },
  {
   "cell_type": "code",
   "execution_count": 6,
   "metadata": {},
   "outputs": [],
   "source": [
    "url = 'https://www.espn.in/nba/team/stats/_/name/gs'\n",
    "r = uReq.get(url)"
   ]
  },
  {
   "cell_type": "code",
   "execution_count": 7,
   "metadata": {},
   "outputs": [],
   "source": [
    "r.close()"
   ]
  },
  {
   "cell_type": "code",
   "execution_count": 8,
   "metadata": {},
   "outputs": [
    {
     "name": "stdout",
     "output_type": "stream",
     "text": [
      "<Response [200]>\n"
     ]
    }
   ],
   "source": [
    "print(r)"
   ]
  },
  {
   "cell_type": "code",
   "execution_count": 9,
   "metadata": {},
   "outputs": [],
   "source": [
    "html_page1 = r.content"
   ]
  },
  {
   "cell_type": "code",
   "execution_count": 11,
   "metadata": {},
   "outputs": [],
   "source": [
    "soup = BeautifulSoup(html_page1, 'html.parser')"
   ]
  },
  {
   "cell_type": "code",
   "execution_count": 12,
   "metadata": {},
   "outputs": [],
   "source": [
    "#soup = soup.prettify()"
   ]
  },
  {
   "cell_type": "markdown",
   "metadata": {},
   "source": [
    "#### Get the table headers"
   ]
  },
  {
   "cell_type": "code",
   "execution_count": 13,
   "metadata": {},
   "outputs": [],
   "source": [
    "# Table headers are in the <thead> tag\n",
    "# We use the find_all method to get the list of all the table headers. We need to specify the class as weel to distinguish it from others\n",
    "table_header = soup.find_all('thead', class_='Table__header-group Table__THEAD' )"
   ]
  },
  {
   "cell_type": "code",
   "execution_count": 14,
   "metadata": {},
   "outputs": [
    {
     "data": {
      "text/plain": [
       "4"
      ]
     },
     "execution_count": 14,
     "metadata": {},
     "output_type": "execute_result"
    }
   ],
   "source": [
    "# the length of table headers gives us the number of elements in this list or in other words\n",
    "# the number of tags <thead>\n",
    "len(table_header)"
   ]
  },
  {
   "cell_type": "code",
   "execution_count": 15,
   "metadata": {},
   "outputs": [],
   "source": [
    "# now inside the table header we have the <tr> tag which specifies the table header row. Using the find method will return the first tag found\n",
    "table_header_row = soup.find('tr', {'class': 'Table__TR Table__even'})"
   ]
  },
  {
   "cell_type": "code",
   "execution_count": 16,
   "metadata": {},
   "outputs": [
    {
     "name": "stdout",
     "output_type": "stream",
     "text": [
      "<tr class=\"Table__TR Table__even\"><th class=\"Table__TH\" title=\"\">Name</th></tr>\n"
     ]
    }
   ],
   "source": [
    "print(table_header_row)"
   ]
  },
  {
   "cell_type": "markdown",
   "metadata": {},
   "source": [
    "Our HTML file has two tables; one is for the Player Stats: All Splits and the second one is for Player Stats: Shooting Splits.\n",
    "Each of the tables further has two table tags inside them and thus subsequent two thead and two tbody tags. The first one is for the names of the players while the second one is for the actual number stats. Thus when we use the find_all() method we need to specify the class to get the one which we require. As it turns out in this case the four table tags have the same class hence we will have to to get the tags of our choice by indexing them from the list."
   ]
  },
  {
   "cell_type": "markdown",
   "metadata": {},
   "source": [
    "- table_header[0] and table_header[2] are not of any importance to us"
   ]
  },
  {
   "cell_type": "code",
   "execution_count": 17,
   "metadata": {},
   "outputs": [],
   "source": [
    "#table_header[1]"
   ]
  },
  {
   "cell_type": "code",
   "execution_count": 18,
   "metadata": {},
   "outputs": [],
   "source": [
    "table_header_row = table_header[1].tr"
   ]
  },
  {
   "cell_type": "code",
   "execution_count": 19,
   "metadata": {},
   "outputs": [],
   "source": [
    "#print(table_header_row)"
   ]
  },
  {
   "cell_type": "code",
   "execution_count": 20,
   "metadata": {},
   "outputs": [],
   "source": [
    "table_headings = table_header_row.find_all('th')"
   ]
  },
  {
   "cell_type": "code",
   "execution_count": 21,
   "metadata": {},
   "outputs": [
    {
     "data": {
      "text/plain": [
       "'GP'"
      ]
     },
     "execution_count": 21,
     "metadata": {},
     "output_type": "execute_result"
    }
   ],
   "source": [
    "table_headings[0].span.a.text"
   ]
  },
  {
   "cell_type": "code",
   "execution_count": 22,
   "metadata": {},
   "outputs": [
    {
     "data": {
      "text/plain": [
       "['GP',\n",
       " 'GS',\n",
       " 'MIN',\n",
       " 'PTS',\n",
       " 'OR',\n",
       " 'DR',\n",
       " 'REB',\n",
       " 'AST',\n",
       " 'STL',\n",
       " 'BLK',\n",
       " 'TO',\n",
       " 'PF',\n",
       " 'AST/TO',\n",
       " 'PER']"
      ]
     },
     "execution_count": 22,
     "metadata": {},
     "output_type": "execute_result"
    }
   ],
   "source": [
    "table_headings_list = []\n",
    "for heading in table_headings:\n",
    "    table_headings_list.append(heading.span.a.text)\n",
    "    \n",
    "table_headings_list"
   ]
  },
  {
   "cell_type": "markdown",
   "metadata": {},
   "source": [
    "#### Get Table Data"
   ]
  },
  {
   "cell_type": "code",
   "execution_count": 23,
   "metadata": {},
   "outputs": [],
   "source": [
    "table_body = soup.find_all('tbody', class_='Table__TBODY')"
   ]
  },
  {
   "cell_type": "code",
   "execution_count": 24,
   "metadata": {},
   "outputs": [
    {
     "data": {
      "text/plain": [
       "4"
      ]
     },
     "execution_count": 24,
     "metadata": {},
     "output_type": "execute_result"
    }
   ],
   "source": [
    "len(table_body)"
   ]
  },
  {
   "cell_type": "code",
   "execution_count": 25,
   "metadata": {},
   "outputs": [],
   "source": [
    "player_names1 = table_body[0]\n",
    "player_stats1 = table_body[1]"
   ]
  },
  {
   "cell_type": "code",
   "execution_count": 26,
   "metadata": {},
   "outputs": [],
   "source": [
    "names_rows1 = player_names1.find_all('tr', class_='Table__TR Table__TR--sm Table__even')"
   ]
  },
  {
   "cell_type": "code",
   "execution_count": 27,
   "metadata": {},
   "outputs": [
    {
     "name": "stdout",
     "output_type": "stream",
     "text": [
      "<class 'bs4.element.ResultSet'>\n"
     ]
    }
   ],
   "source": [
    "print(type(names_rows1))"
   ]
  },
  {
   "cell_type": "code",
   "execution_count": 28,
   "metadata": {},
   "outputs": [
    {
     "name": "stdout",
     "output_type": "stream",
     "text": [
      "17\n"
     ]
    }
   ],
   "source": [
    "print(len(names_rows1))"
   ]
  },
  {
   "cell_type": "code",
   "execution_count": 29,
   "metadata": {},
   "outputs": [],
   "source": [
    "name_row = names_rows1[6]"
   ]
  },
  {
   "cell_type": "code",
   "execution_count": 30,
   "metadata": {},
   "outputs": [
    {
     "data": {
      "text/plain": [
       "'Gary Payton II'"
      ]
     },
     "execution_count": 30,
     "metadata": {},
     "output_type": "execute_result"
    }
   ],
   "source": [
    "name_row.td.span.a.text"
   ]
  },
  {
   "cell_type": "code",
   "execution_count": 31,
   "metadata": {},
   "outputs": [
    {
     "data": {
      "text/plain": [
       "['Stephen Curry',\n",
       " 'Andrew Wiggins',\n",
       " 'Jordan Poole',\n",
       " 'Damion Lee',\n",
       " 'Draymond Green',\n",
       " 'Otto Porter Jr.',\n",
       " 'Gary Payton II',\n",
       " 'Nemanja Bjelica',\n",
       " 'Quinndary Weatherspoon',\n",
       " 'Kevon Looney',\n",
       " 'Juan Toscano-Anderson',\n",
       " 'Jonathan Kuminga',\n",
       " 'Andre Iguodala',\n",
       " 'Chris Chiozza',\n",
       " 'Moses Moody',\n",
       " 'Jeff Dowtin']"
      ]
     },
     "execution_count": 31,
     "metadata": {},
     "output_type": "execute_result"
    }
   ],
   "source": [
    "player_names_list = []\n",
    "for name_row in names_rows1:\n",
    "    try:\n",
    "        player_names_list.append(name_row.td.span.a.text)\n",
    "    except:\n",
    "        continue\n",
    "    \n",
    "player_names_list"
   ]
  },
  {
   "cell_type": "code",
   "execution_count": 32,
   "metadata": {},
   "outputs": [],
   "source": [
    "player_names_list.append('Total')"
   ]
  },
  {
   "cell_type": "code",
   "execution_count": 33,
   "metadata": {},
   "outputs": [],
   "source": [
    "player_rows_list = player_stats1.find_all('tr', class_='Table__TR Table__TR--sm Table__even')"
   ]
  },
  {
   "cell_type": "code",
   "execution_count": 34,
   "metadata": {},
   "outputs": [],
   "source": [
    "single_player_stats = player_rows_list[0].find_all('td', class_='Table__TD')"
   ]
  },
  {
   "cell_type": "code",
   "execution_count": 35,
   "metadata": {},
   "outputs": [],
   "source": [
    "#single_player_stats.find('td', {'class':'Table__TD'})"
   ]
  },
  {
   "cell_type": "code",
   "execution_count": 36,
   "metadata": {},
   "outputs": [
    {
     "data": {
      "text/plain": [
       "<span class=\"\">33</span>"
      ]
     },
     "execution_count": 36,
     "metadata": {},
     "output_type": "execute_result"
    }
   ],
   "source": [
    "single_player_stats[0].span"
   ]
  },
  {
   "cell_type": "code",
   "execution_count": 37,
   "metadata": {},
   "outputs": [
    {
     "name": "stdout",
     "output_type": "stream",
     "text": [
      "[['33', '33', '34.8', '27.7', '0.6', '4.7', '5.3', '6.0', '1.5', '0.5', '3.4', '2.0', '1.8', '23.75'], ['31', '31', '31.3', '19.0', '1.3', '3.2', '4.5', '1.8', '0.9', '0.6', '1.6', '1.8', '1.1', '17.38'], ['29', '28', '30.2', '17.6', '0.3', '3.1', '3.4', '3.4', '1.0', '0.2', '2.5', '2.9', '1.3', '14.63'], ['25', '2', '20.8', '8.4', '0.3', '2.8', '3.1', '1.0', '0.4', '0.1', '0.6', '1.6', '1.6', '10.86'], ['31', '31', '30.6', '8.4', '1.2', '6.8', '7.9', '7.5', '1.4', '1.2', '3.2', '2.8', '2.4', '15.65'], ['30', '3', '21.3', '8.2', '0.9', '4.0', '4.9', '1.4', '0.9', '0.5', '0.6', '1.3', '2.5', '15.90'], ['34', '5', '16.2', '7.7', '1.1', '2.3', '3.4', '0.8', '1.2', '0.2', '0.5', '1.6', '1.5', '21.03'], ['35', '0', '15.1', '6.7', '0.9', '3.1', '4.0', '1.6', '0.6', '0.3', '1.1', '1.6', '1.5', '15.32'], ['1', '0', '14.0', '6.0', '0.0', '1.0', '1.0', '0.0', '1.0', '1.0', '1.0', '4.0', '0.0', '15.59'], ['35', '35', '19.5', '6.0', '2.3', '4.0', '6.3', '1.5', '0.5', '0.8', '0.7', '2.7', '2.2', '15.43'], ['34', '3', '16.6', '4.9', '0.6', '2.3', '2.9', '2.2', '0.7', '0.4', '1.2', '1.6', '1.8', '11.83'], ['25', '2', '9.2', '4.8', '0.3', '1.2', '1.5', '0.3', '0.4', '0.1', '0.6', '1.1', '0.4', '12.07'], ['18', '0', '20.6', '4.7', '0.8', '2.8', '3.6', '4.1', '0.7', '0.7', '0.7', '0.8', '5.7', '14.30'], ['17', '1', '12.1', '2.4', '0.5', '0.9', '1.4', '1.8', '0.5', '0.0', '1.0', '1.2', '1.8', '4.50'], ['22', '1', '6.5', '1.8', '0.1', '0.8', '0.9', '0.3', '0.1', '0.2', '0.2', '0.5', '1.8', '5.15'], ['4', '0', '7.0', '1.5', '0.3', '1.5', '1.8', '0.8', '0.0', '0.3', '0.3', '0.5', '3.0', '9.78'], ['35', '', '', '111.2', '9.8', '36.3', '46.1', '28.1', '9.3', '5.0', '15.4', '20.4', '1.8', '']]\n"
     ]
    }
   ],
   "source": [
    "player_total_list = []\n",
    "for row in range(len(player_rows_list)):\n",
    "    #print(row)\n",
    "    single_player_stats = player_rows_list[row]\n",
    "    single_player_list = []\n",
    "    for stats in single_player_stats.find_all('td',class_='Table__TD'):\n",
    "        try:\n",
    "            single_player_list.append(stats.span.text)\n",
    "        except:\n",
    "            continue\n",
    "    #print(single_player_list)\n",
    "    player_total_list.append(single_player_list)\n",
    "    \n",
    "print(player_total_list)"
   ]
  },
  {
   "cell_type": "code",
   "execution_count": 38,
   "metadata": {},
   "outputs": [],
   "source": [
    "import pandas as pd"
   ]
  },
  {
   "cell_type": "code",
   "execution_count": 39,
   "metadata": {},
   "outputs": [],
   "source": [
    "df = pd.DataFrame(player_total_list, index = player_names_list, columns = table_headings_list)"
   ]
  },
  {
   "cell_type": "code",
   "execution_count": 40,
   "metadata": {},
   "outputs": [
    {
     "data": {
      "text/html": [
       "<div>\n",
       "<style scoped>\n",
       "    .dataframe tbody tr th:only-of-type {\n",
       "        vertical-align: middle;\n",
       "    }\n",
       "\n",
       "    .dataframe tbody tr th {\n",
       "        vertical-align: top;\n",
       "    }\n",
       "\n",
       "    .dataframe thead th {\n",
       "        text-align: right;\n",
       "    }\n",
       "</style>\n",
       "<table border=\"1\" class=\"dataframe\">\n",
       "  <thead>\n",
       "    <tr style=\"text-align: right;\">\n",
       "      <th></th>\n",
       "      <th>GP</th>\n",
       "      <th>GS</th>\n",
       "      <th>MIN</th>\n",
       "      <th>PTS</th>\n",
       "      <th>OR</th>\n",
       "      <th>DR</th>\n",
       "      <th>REB</th>\n",
       "      <th>AST</th>\n",
       "      <th>STL</th>\n",
       "      <th>BLK</th>\n",
       "      <th>TO</th>\n",
       "      <th>PF</th>\n",
       "      <th>AST/TO</th>\n",
       "      <th>PER</th>\n",
       "    </tr>\n",
       "  </thead>\n",
       "  <tbody>\n",
       "    <tr>\n",
       "      <th>Stephen Curry</th>\n",
       "      <td>33</td>\n",
       "      <td>33</td>\n",
       "      <td>34.8</td>\n",
       "      <td>27.7</td>\n",
       "      <td>0.6</td>\n",
       "      <td>4.7</td>\n",
       "      <td>5.3</td>\n",
       "      <td>6.0</td>\n",
       "      <td>1.5</td>\n",
       "      <td>0.5</td>\n",
       "      <td>3.4</td>\n",
       "      <td>2.0</td>\n",
       "      <td>1.8</td>\n",
       "      <td>23.75</td>\n",
       "    </tr>\n",
       "    <tr>\n",
       "      <th>Andrew Wiggins</th>\n",
       "      <td>31</td>\n",
       "      <td>31</td>\n",
       "      <td>31.3</td>\n",
       "      <td>19.0</td>\n",
       "      <td>1.3</td>\n",
       "      <td>3.2</td>\n",
       "      <td>4.5</td>\n",
       "      <td>1.8</td>\n",
       "      <td>0.9</td>\n",
       "      <td>0.6</td>\n",
       "      <td>1.6</td>\n",
       "      <td>1.8</td>\n",
       "      <td>1.1</td>\n",
       "      <td>17.38</td>\n",
       "    </tr>\n",
       "    <tr>\n",
       "      <th>Jordan Poole</th>\n",
       "      <td>29</td>\n",
       "      <td>28</td>\n",
       "      <td>30.2</td>\n",
       "      <td>17.6</td>\n",
       "      <td>0.3</td>\n",
       "      <td>3.1</td>\n",
       "      <td>3.4</td>\n",
       "      <td>3.4</td>\n",
       "      <td>1.0</td>\n",
       "      <td>0.2</td>\n",
       "      <td>2.5</td>\n",
       "      <td>2.9</td>\n",
       "      <td>1.3</td>\n",
       "      <td>14.63</td>\n",
       "    </tr>\n",
       "    <tr>\n",
       "      <th>Damion Lee</th>\n",
       "      <td>25</td>\n",
       "      <td>2</td>\n",
       "      <td>20.8</td>\n",
       "      <td>8.4</td>\n",
       "      <td>0.3</td>\n",
       "      <td>2.8</td>\n",
       "      <td>3.1</td>\n",
       "      <td>1.0</td>\n",
       "      <td>0.4</td>\n",
       "      <td>0.1</td>\n",
       "      <td>0.6</td>\n",
       "      <td>1.6</td>\n",
       "      <td>1.6</td>\n",
       "      <td>10.86</td>\n",
       "    </tr>\n",
       "    <tr>\n",
       "      <th>Draymond Green</th>\n",
       "      <td>31</td>\n",
       "      <td>31</td>\n",
       "      <td>30.6</td>\n",
       "      <td>8.4</td>\n",
       "      <td>1.2</td>\n",
       "      <td>6.8</td>\n",
       "      <td>7.9</td>\n",
       "      <td>7.5</td>\n",
       "      <td>1.4</td>\n",
       "      <td>1.2</td>\n",
       "      <td>3.2</td>\n",
       "      <td>2.8</td>\n",
       "      <td>2.4</td>\n",
       "      <td>15.65</td>\n",
       "    </tr>\n",
       "    <tr>\n",
       "      <th>Otto Porter Jr.</th>\n",
       "      <td>30</td>\n",
       "      <td>3</td>\n",
       "      <td>21.3</td>\n",
       "      <td>8.2</td>\n",
       "      <td>0.9</td>\n",
       "      <td>4.0</td>\n",
       "      <td>4.9</td>\n",
       "      <td>1.4</td>\n",
       "      <td>0.9</td>\n",
       "      <td>0.5</td>\n",
       "      <td>0.6</td>\n",
       "      <td>1.3</td>\n",
       "      <td>2.5</td>\n",
       "      <td>15.90</td>\n",
       "    </tr>\n",
       "    <tr>\n",
       "      <th>Gary Payton II</th>\n",
       "      <td>34</td>\n",
       "      <td>5</td>\n",
       "      <td>16.2</td>\n",
       "      <td>7.7</td>\n",
       "      <td>1.1</td>\n",
       "      <td>2.3</td>\n",
       "      <td>3.4</td>\n",
       "      <td>0.8</td>\n",
       "      <td>1.2</td>\n",
       "      <td>0.2</td>\n",
       "      <td>0.5</td>\n",
       "      <td>1.6</td>\n",
       "      <td>1.5</td>\n",
       "      <td>21.03</td>\n",
       "    </tr>\n",
       "    <tr>\n",
       "      <th>Nemanja Bjelica</th>\n",
       "      <td>35</td>\n",
       "      <td>0</td>\n",
       "      <td>15.1</td>\n",
       "      <td>6.7</td>\n",
       "      <td>0.9</td>\n",
       "      <td>3.1</td>\n",
       "      <td>4.0</td>\n",
       "      <td>1.6</td>\n",
       "      <td>0.6</td>\n",
       "      <td>0.3</td>\n",
       "      <td>1.1</td>\n",
       "      <td>1.6</td>\n",
       "      <td>1.5</td>\n",
       "      <td>15.32</td>\n",
       "    </tr>\n",
       "    <tr>\n",
       "      <th>Quinndary Weatherspoon</th>\n",
       "      <td>1</td>\n",
       "      <td>0</td>\n",
       "      <td>14.0</td>\n",
       "      <td>6.0</td>\n",
       "      <td>0.0</td>\n",
       "      <td>1.0</td>\n",
       "      <td>1.0</td>\n",
       "      <td>0.0</td>\n",
       "      <td>1.0</td>\n",
       "      <td>1.0</td>\n",
       "      <td>1.0</td>\n",
       "      <td>4.0</td>\n",
       "      <td>0.0</td>\n",
       "      <td>15.59</td>\n",
       "    </tr>\n",
       "    <tr>\n",
       "      <th>Kevon Looney</th>\n",
       "      <td>35</td>\n",
       "      <td>35</td>\n",
       "      <td>19.5</td>\n",
       "      <td>6.0</td>\n",
       "      <td>2.3</td>\n",
       "      <td>4.0</td>\n",
       "      <td>6.3</td>\n",
       "      <td>1.5</td>\n",
       "      <td>0.5</td>\n",
       "      <td>0.8</td>\n",
       "      <td>0.7</td>\n",
       "      <td>2.7</td>\n",
       "      <td>2.2</td>\n",
       "      <td>15.43</td>\n",
       "    </tr>\n",
       "    <tr>\n",
       "      <th>Juan Toscano-Anderson</th>\n",
       "      <td>34</td>\n",
       "      <td>3</td>\n",
       "      <td>16.6</td>\n",
       "      <td>4.9</td>\n",
       "      <td>0.6</td>\n",
       "      <td>2.3</td>\n",
       "      <td>2.9</td>\n",
       "      <td>2.2</td>\n",
       "      <td>0.7</td>\n",
       "      <td>0.4</td>\n",
       "      <td>1.2</td>\n",
       "      <td>1.6</td>\n",
       "      <td>1.8</td>\n",
       "      <td>11.83</td>\n",
       "    </tr>\n",
       "    <tr>\n",
       "      <th>Jonathan Kuminga</th>\n",
       "      <td>25</td>\n",
       "      <td>2</td>\n",
       "      <td>9.2</td>\n",
       "      <td>4.8</td>\n",
       "      <td>0.3</td>\n",
       "      <td>1.2</td>\n",
       "      <td>1.5</td>\n",
       "      <td>0.3</td>\n",
       "      <td>0.4</td>\n",
       "      <td>0.1</td>\n",
       "      <td>0.6</td>\n",
       "      <td>1.1</td>\n",
       "      <td>0.4</td>\n",
       "      <td>12.07</td>\n",
       "    </tr>\n",
       "    <tr>\n",
       "      <th>Andre Iguodala</th>\n",
       "      <td>18</td>\n",
       "      <td>0</td>\n",
       "      <td>20.6</td>\n",
       "      <td>4.7</td>\n",
       "      <td>0.8</td>\n",
       "      <td>2.8</td>\n",
       "      <td>3.6</td>\n",
       "      <td>4.1</td>\n",
       "      <td>0.7</td>\n",
       "      <td>0.7</td>\n",
       "      <td>0.7</td>\n",
       "      <td>0.8</td>\n",
       "      <td>5.7</td>\n",
       "      <td>14.30</td>\n",
       "    </tr>\n",
       "    <tr>\n",
       "      <th>Chris Chiozza</th>\n",
       "      <td>17</td>\n",
       "      <td>1</td>\n",
       "      <td>12.1</td>\n",
       "      <td>2.4</td>\n",
       "      <td>0.5</td>\n",
       "      <td>0.9</td>\n",
       "      <td>1.4</td>\n",
       "      <td>1.8</td>\n",
       "      <td>0.5</td>\n",
       "      <td>0.0</td>\n",
       "      <td>1.0</td>\n",
       "      <td>1.2</td>\n",
       "      <td>1.8</td>\n",
       "      <td>4.50</td>\n",
       "    </tr>\n",
       "    <tr>\n",
       "      <th>Moses Moody</th>\n",
       "      <td>22</td>\n",
       "      <td>1</td>\n",
       "      <td>6.5</td>\n",
       "      <td>1.8</td>\n",
       "      <td>0.1</td>\n",
       "      <td>0.8</td>\n",
       "      <td>0.9</td>\n",
       "      <td>0.3</td>\n",
       "      <td>0.1</td>\n",
       "      <td>0.2</td>\n",
       "      <td>0.2</td>\n",
       "      <td>0.5</td>\n",
       "      <td>1.8</td>\n",
       "      <td>5.15</td>\n",
       "    </tr>\n",
       "    <tr>\n",
       "      <th>Jeff Dowtin</th>\n",
       "      <td>4</td>\n",
       "      <td>0</td>\n",
       "      <td>7.0</td>\n",
       "      <td>1.5</td>\n",
       "      <td>0.3</td>\n",
       "      <td>1.5</td>\n",
       "      <td>1.8</td>\n",
       "      <td>0.8</td>\n",
       "      <td>0.0</td>\n",
       "      <td>0.3</td>\n",
       "      <td>0.3</td>\n",
       "      <td>0.5</td>\n",
       "      <td>3.0</td>\n",
       "      <td>9.78</td>\n",
       "    </tr>\n",
       "    <tr>\n",
       "      <th>Total</th>\n",
       "      <td>35</td>\n",
       "      <td></td>\n",
       "      <td></td>\n",
       "      <td>111.2</td>\n",
       "      <td>9.8</td>\n",
       "      <td>36.3</td>\n",
       "      <td>46.1</td>\n",
       "      <td>28.1</td>\n",
       "      <td>9.3</td>\n",
       "      <td>5.0</td>\n",
       "      <td>15.4</td>\n",
       "      <td>20.4</td>\n",
       "      <td>1.8</td>\n",
       "      <td></td>\n",
       "    </tr>\n",
       "  </tbody>\n",
       "</table>\n",
       "</div>"
      ],
      "text/plain": [
       "                        GP  GS   MIN    PTS   OR    DR   REB   AST  STL  BLK  \\\n",
       "Stephen Curry           33  33  34.8   27.7  0.6   4.7   5.3   6.0  1.5  0.5   \n",
       "Andrew Wiggins          31  31  31.3   19.0  1.3   3.2   4.5   1.8  0.9  0.6   \n",
       "Jordan Poole            29  28  30.2   17.6  0.3   3.1   3.4   3.4  1.0  0.2   \n",
       "Damion Lee              25   2  20.8    8.4  0.3   2.8   3.1   1.0  0.4  0.1   \n",
       "Draymond Green          31  31  30.6    8.4  1.2   6.8   7.9   7.5  1.4  1.2   \n",
       "Otto Porter Jr.         30   3  21.3    8.2  0.9   4.0   4.9   1.4  0.9  0.5   \n",
       "Gary Payton II          34   5  16.2    7.7  1.1   2.3   3.4   0.8  1.2  0.2   \n",
       "Nemanja Bjelica         35   0  15.1    6.7  0.9   3.1   4.0   1.6  0.6  0.3   \n",
       "Quinndary Weatherspoon   1   0  14.0    6.0  0.0   1.0   1.0   0.0  1.0  1.0   \n",
       "Kevon Looney            35  35  19.5    6.0  2.3   4.0   6.3   1.5  0.5  0.8   \n",
       "Juan Toscano-Anderson   34   3  16.6    4.9  0.6   2.3   2.9   2.2  0.7  0.4   \n",
       "Jonathan Kuminga        25   2   9.2    4.8  0.3   1.2   1.5   0.3  0.4  0.1   \n",
       "Andre Iguodala          18   0  20.6    4.7  0.8   2.8   3.6   4.1  0.7  0.7   \n",
       "Chris Chiozza           17   1  12.1    2.4  0.5   0.9   1.4   1.8  0.5  0.0   \n",
       "Moses Moody             22   1   6.5    1.8  0.1   0.8   0.9   0.3  0.1  0.2   \n",
       "Jeff Dowtin              4   0   7.0    1.5  0.3   1.5   1.8   0.8  0.0  0.3   \n",
       "Total                   35            111.2  9.8  36.3  46.1  28.1  9.3  5.0   \n",
       "\n",
       "                          TO    PF AST/TO    PER  \n",
       "Stephen Curry            3.4   2.0    1.8  23.75  \n",
       "Andrew Wiggins           1.6   1.8    1.1  17.38  \n",
       "Jordan Poole             2.5   2.9    1.3  14.63  \n",
       "Damion Lee               0.6   1.6    1.6  10.86  \n",
       "Draymond Green           3.2   2.8    2.4  15.65  \n",
       "Otto Porter Jr.          0.6   1.3    2.5  15.90  \n",
       "Gary Payton II           0.5   1.6    1.5  21.03  \n",
       "Nemanja Bjelica          1.1   1.6    1.5  15.32  \n",
       "Quinndary Weatherspoon   1.0   4.0    0.0  15.59  \n",
       "Kevon Looney             0.7   2.7    2.2  15.43  \n",
       "Juan Toscano-Anderson    1.2   1.6    1.8  11.83  \n",
       "Jonathan Kuminga         0.6   1.1    0.4  12.07  \n",
       "Andre Iguodala           0.7   0.8    5.7  14.30  \n",
       "Chris Chiozza            1.0   1.2    1.8   4.50  \n",
       "Moses Moody              0.2   0.5    1.8   5.15  \n",
       "Jeff Dowtin              0.3   0.5    3.0   9.78  \n",
       "Total                   15.4  20.4    1.8         "
      ]
     },
     "execution_count": 40,
     "metadata": {},
     "output_type": "execute_result"
    }
   ],
   "source": [
    "df.head()"
   ]
  },
  {
   "cell_type": "markdown",
   "metadata": {},
   "source": [
    "#### Glossary\n",
    "**table_header**: This is a list of all the tags \"< thead >\" of a particular class as specified, wherever they appear in the HTML. This was found using the soup.find_all() method. The First \"< thead >\" index(0) contains the code for the first table names columns heading. The 2nd thead index(1) contains the headings for the data. The 3rd thead (2) index refers to the names head for the shooting splits table. The fourth thead contains index(3) contains the headings for this data. \n",
    "\n",
    "**table_header_row**: This is the specific header row which we have indexed from table_header.Only index(1) and index(3) are of use to us. So we have table_head[1] and and table_head[3] are useful to us and contain the headings for the data columns.\n",
    "\n",
    "**table_header**:\n",
    "\n",
    "**table_headings_list**: This is the final list of all the neccessary headings of our data and contains headings such as the Games Played (GP), Games Started (GS), Minutes played (MIN) and so on. We got this by looping through\n"
   ]
  },
  {
   "cell_type": "markdown",
   "metadata": {},
   "source": [
    "### Shooting Stats Table - All Splits"
   ]
  },
  {
   "cell_type": "markdown",
   "metadata": {},
   "source": [
    "We dont need to repeat the names again since we already have a list of the names. We just the need the headings of the new table and the data. The stats and the names are present inside the table_body variable which is a list with 4 elements. The first element of third elements of this list ie index(0) and index(2) are the players names repeated. Since we already have them from index(0) hence we only need the table_body[3] data now"
   ]
  },
  {
   "cell_type": "code",
   "execution_count": 41,
   "metadata": {},
   "outputs": [],
   "source": [
    "#table_header[3]"
   ]
  },
  {
   "cell_type": "code",
   "execution_count": 42,
   "metadata": {},
   "outputs": [],
   "source": [
    "table_header_row = table_header[3].tr"
   ]
  },
  {
   "cell_type": "code",
   "execution_count": 43,
   "metadata": {},
   "outputs": [],
   "source": [
    "table_headings = table_header_row.find_all('th')"
   ]
  },
  {
   "cell_type": "code",
   "execution_count": 44,
   "metadata": {},
   "outputs": [
    {
     "data": {
      "text/plain": [
       "'FGM'"
      ]
     },
     "execution_count": 44,
     "metadata": {},
     "output_type": "execute_result"
    }
   ],
   "source": [
    "table_headings[0].span.a.text"
   ]
  },
  {
   "cell_type": "code",
   "execution_count": 45,
   "metadata": {},
   "outputs": [
    {
     "data": {
      "text/plain": [
       "['FGM',\n",
       " 'FGA',\n",
       " 'FG%',\n",
       " '3PM',\n",
       " '3PA',\n",
       " '3P%',\n",
       " 'FTM',\n",
       " 'FTA',\n",
       " 'FT%',\n",
       " '2PM',\n",
       " '2PA',\n",
       " '2P%',\n",
       " 'SC-EFF',\n",
       " 'SH-EFF']"
      ]
     },
     "execution_count": 45,
     "metadata": {},
     "output_type": "execute_result"
    }
   ],
   "source": [
    "table_headings_list2 = []\n",
    "for heading in table_headings:\n",
    "    table_headings_list2.append(heading.span.a.text)\n",
    "    \n",
    "table_headings_list2"
   ]
  },
  {
   "cell_type": "code",
   "execution_count": 46,
   "metadata": {},
   "outputs": [],
   "source": [
    "player_stats2 = table_body[3]"
   ]
  },
  {
   "cell_type": "code",
   "execution_count": 47,
   "metadata": {},
   "outputs": [],
   "source": [
    "#player_stats2"
   ]
  },
  {
   "cell_type": "code",
   "execution_count": 48,
   "metadata": {},
   "outputs": [],
   "source": [
    "player_rows_list2 = player_stats2.find_all('tr', class_='Table__TR Table__TR--sm Table__even')"
   ]
  },
  {
   "cell_type": "code",
   "execution_count": 49,
   "metadata": {},
   "outputs": [],
   "source": [
    "single_player_stats2 = player_rows_list2[0].find_all('td', class_='Table__TD')"
   ]
  },
  {
   "cell_type": "code",
   "execution_count": 50,
   "metadata": {},
   "outputs": [
    {
     "data": {
      "text/plain": [
       "<span class=\"\">8.9</span>"
      ]
     },
     "execution_count": 50,
     "metadata": {},
     "output_type": "execute_result"
    }
   ],
   "source": [
    "single_player_stats2[0].span"
   ]
  },
  {
   "cell_type": "code",
   "execution_count": 51,
   "metadata": {},
   "outputs": [
    {
     "name": "stdout",
     "output_type": "stream",
     "text": [
      "[['8.9', '20.5', '43.4', '5.4', '13.5', '40.0', '4.5', '4.9', '92.0', '3.5', '7.1', '49.8', '1.350', '0.56'], ['7.1', '14.5', '48.7', '2.3', '5.4', '43.4', '2.5', '3.6', '69.0', '4.7', '9.2', '51.8', '1.307', '0.57'], ['6.1', '13.7', '44.3', '2.6', '7.6', '33.9', '2.9', '3.2', '90.2', '3.5', '6.1', '57.4', '1.285', '0.54'], ['3.1', '7.0', '43.8', '1.2', '3.4', '34.9', '1.1', '1.2', '87.1', '1.9', '3.6', '52.2', '1.199', '0.52'], ['3.4', '6.2', '54.7', '0.4', '1.2', '28.9', '1.3', '2.2', '59.7', '3.0', '5.0', '61.0', '1.359', '0.58'], ['3.0', '6.5', '46.9', '1.6', '4.0', '40.0', '0.5', '0.6', '78.9', '1.4', '2.5', '58.1', '1.263', '0.59'], ['3.1', '4.9', '63.5', '0.8', '1.8', '41.9', '0.7', '1.1', '59.0', '2.4', '3.1', '76.2', '1.563', '0.71'], ['2.4', '5.3', '45.7', '1.0', '2.5', '39.1', '0.9', '1.3', '67.4', '1.4', '2.8', '51.5', '1.266', '0.55'], ['3.0', '3.0', '100.0', '0.0', '0.0', '0.0', '0.0', '0.0', '0.0', '3.0', '3.0', '100.0', '2.000', '1.00'], ['2.5', '4.6', '54.7', '0.0', '0.0', '0.0', '0.9', '1.6', '60.0', '2.5', '4.6', '55.0', '1.298', '0.55'], ['1.9', '3.8', '50.8', '0.3', '1.3', '25.6', '0.6', '1.1', '59.5', '1.6', '2.6', '63.2', '1.269', '0.55'], ['1.8', '3.6', '49.4', '0.4', '1.2', '29.0', '0.9', '1.6', '56.4', '1.4', '2.3', '60.3', '1.337', '0.54'], ['1.8', '4.2', '42.7', '0.6', '2.6', '23.9', '0.5', '0.7', '75.0', '1.2', '1.6', '72.4', '1.120', '0.50'], ['0.8', '2.9', '28.0', '0.6', '1.9', '34.4', '0.1', '0.1', '100.0', '0.2', '1.1', '16.7', '0.800', '0.39'], ['0.7', '2.2', '33.3', '0.2', '1.2', '14.8', '0.2', '0.3', '57.1', '0.5', '1.0', '57.1', '0.833', '0.38'], ['0.8', '1.5', '50.0', '0.0', '0.3', '0.0', '0.0', '0.0', '0.0', '0.8', '1.3', '60.0', '1.000', '0.50'], ['40.5', '85.7', '47.3', '14.9', '40.2', '37.0', '15.3', '20.6', '74.6', '25.7', '45.5', '56.3', '1.298', '0.56']]\n"
     ]
    }
   ],
   "source": [
    "player_total_list2 = []\n",
    "for row in range(len(player_rows_list2)):\n",
    "    #print(row)\n",
    "    single_player_stats2 = player_rows_list2[row]\n",
    "    single_player_list2 = []\n",
    "    for stats in single_player_stats2.find_all('td',class_='Table__TD'):\n",
    "        try:\n",
    "            single_player_list2.append(stats.span.text)\n",
    "        except:\n",
    "            continue\n",
    "    #print(single_player_list)\n",
    "    player_total_list2.append(single_player_list2)\n",
    "    \n",
    "print(player_total_list2)"
   ]
  },
  {
   "cell_type": "code",
   "execution_count": 52,
   "metadata": {},
   "outputs": [],
   "source": [
    "df2 = pd.DataFrame(player_total_list2, index = player_names_list, columns = table_headings_list2)"
   ]
  },
  {
   "cell_type": "code",
   "execution_count": 53,
   "metadata": {},
   "outputs": [
    {
     "data": {
      "text/html": [
       "<div>\n",
       "<style scoped>\n",
       "    .dataframe tbody tr th:only-of-type {\n",
       "        vertical-align: middle;\n",
       "    }\n",
       "\n",
       "    .dataframe tbody tr th {\n",
       "        vertical-align: top;\n",
       "    }\n",
       "\n",
       "    .dataframe thead th {\n",
       "        text-align: right;\n",
       "    }\n",
       "</style>\n",
       "<table border=\"1\" class=\"dataframe\">\n",
       "  <thead>\n",
       "    <tr style=\"text-align: right;\">\n",
       "      <th></th>\n",
       "      <th>FGM</th>\n",
       "      <th>FGA</th>\n",
       "      <th>FG%</th>\n",
       "      <th>3PM</th>\n",
       "      <th>3PA</th>\n",
       "      <th>3P%</th>\n",
       "      <th>FTM</th>\n",
       "      <th>FTA</th>\n",
       "      <th>FT%</th>\n",
       "      <th>2PM</th>\n",
       "      <th>2PA</th>\n",
       "      <th>2P%</th>\n",
       "      <th>SC-EFF</th>\n",
       "      <th>SH-EFF</th>\n",
       "    </tr>\n",
       "  </thead>\n",
       "  <tbody>\n",
       "    <tr>\n",
       "      <th>Stephen Curry</th>\n",
       "      <td>8.9</td>\n",
       "      <td>20.5</td>\n",
       "      <td>43.4</td>\n",
       "      <td>5.4</td>\n",
       "      <td>13.5</td>\n",
       "      <td>40.0</td>\n",
       "      <td>4.5</td>\n",
       "      <td>4.9</td>\n",
       "      <td>92.0</td>\n",
       "      <td>3.5</td>\n",
       "      <td>7.1</td>\n",
       "      <td>49.8</td>\n",
       "      <td>1.350</td>\n",
       "      <td>0.56</td>\n",
       "    </tr>\n",
       "    <tr>\n",
       "      <th>Andrew Wiggins</th>\n",
       "      <td>7.1</td>\n",
       "      <td>14.5</td>\n",
       "      <td>48.7</td>\n",
       "      <td>2.3</td>\n",
       "      <td>5.4</td>\n",
       "      <td>43.4</td>\n",
       "      <td>2.5</td>\n",
       "      <td>3.6</td>\n",
       "      <td>69.0</td>\n",
       "      <td>4.7</td>\n",
       "      <td>9.2</td>\n",
       "      <td>51.8</td>\n",
       "      <td>1.307</td>\n",
       "      <td>0.57</td>\n",
       "    </tr>\n",
       "    <tr>\n",
       "      <th>Jordan Poole</th>\n",
       "      <td>6.1</td>\n",
       "      <td>13.7</td>\n",
       "      <td>44.3</td>\n",
       "      <td>2.6</td>\n",
       "      <td>7.6</td>\n",
       "      <td>33.9</td>\n",
       "      <td>2.9</td>\n",
       "      <td>3.2</td>\n",
       "      <td>90.2</td>\n",
       "      <td>3.5</td>\n",
       "      <td>6.1</td>\n",
       "      <td>57.4</td>\n",
       "      <td>1.285</td>\n",
       "      <td>0.54</td>\n",
       "    </tr>\n",
       "    <tr>\n",
       "      <th>Damion Lee</th>\n",
       "      <td>3.1</td>\n",
       "      <td>7.0</td>\n",
       "      <td>43.8</td>\n",
       "      <td>1.2</td>\n",
       "      <td>3.4</td>\n",
       "      <td>34.9</td>\n",
       "      <td>1.1</td>\n",
       "      <td>1.2</td>\n",
       "      <td>87.1</td>\n",
       "      <td>1.9</td>\n",
       "      <td>3.6</td>\n",
       "      <td>52.2</td>\n",
       "      <td>1.199</td>\n",
       "      <td>0.52</td>\n",
       "    </tr>\n",
       "    <tr>\n",
       "      <th>Draymond Green</th>\n",
       "      <td>3.4</td>\n",
       "      <td>6.2</td>\n",
       "      <td>54.7</td>\n",
       "      <td>0.4</td>\n",
       "      <td>1.2</td>\n",
       "      <td>28.9</td>\n",
       "      <td>1.3</td>\n",
       "      <td>2.2</td>\n",
       "      <td>59.7</td>\n",
       "      <td>3.0</td>\n",
       "      <td>5.0</td>\n",
       "      <td>61.0</td>\n",
       "      <td>1.359</td>\n",
       "      <td>0.58</td>\n",
       "    </tr>\n",
       "  </tbody>\n",
       "</table>\n",
       "</div>"
      ],
      "text/plain": [
       "                FGM   FGA   FG%  3PM   3PA   3P%  FTM  FTA   FT%  2PM  2PA  \\\n",
       "Stephen Curry   8.9  20.5  43.4  5.4  13.5  40.0  4.5  4.9  92.0  3.5  7.1   \n",
       "Andrew Wiggins  7.1  14.5  48.7  2.3   5.4  43.4  2.5  3.6  69.0  4.7  9.2   \n",
       "Jordan Poole    6.1  13.7  44.3  2.6   7.6  33.9  2.9  3.2  90.2  3.5  6.1   \n",
       "Damion Lee      3.1   7.0  43.8  1.2   3.4  34.9  1.1  1.2  87.1  1.9  3.6   \n",
       "Draymond Green  3.4   6.2  54.7  0.4   1.2  28.9  1.3  2.2  59.7  3.0  5.0   \n",
       "\n",
       "                 2P% SC-EFF SH-EFF  \n",
       "Stephen Curry   49.8  1.350   0.56  \n",
       "Andrew Wiggins  51.8  1.307   0.57  \n",
       "Jordan Poole    57.4  1.285   0.54  \n",
       "Damion Lee      52.2  1.199   0.52  \n",
       "Draymond Green  61.0  1.359   0.58  "
      ]
     },
     "execution_count": 53,
     "metadata": {},
     "output_type": "execute_result"
    }
   ],
   "source": [
    "df2.head()"
   ]
  },
  {
   "cell_type": "code",
   "execution_count": 54,
   "metadata": {},
   "outputs": [],
   "source": [
    "dfgsw = pd.concat([df, df2], axis=1, join=\"inner\")"
   ]
  },
  {
   "cell_type": "code",
   "execution_count": 55,
   "metadata": {},
   "outputs": [
    {
     "data": {
      "text/html": [
       "<div>\n",
       "<style scoped>\n",
       "    .dataframe tbody tr th:only-of-type {\n",
       "        vertical-align: middle;\n",
       "    }\n",
       "\n",
       "    .dataframe tbody tr th {\n",
       "        vertical-align: top;\n",
       "    }\n",
       "\n",
       "    .dataframe thead th {\n",
       "        text-align: right;\n",
       "    }\n",
       "</style>\n",
       "<table border=\"1\" class=\"dataframe\">\n",
       "  <thead>\n",
       "    <tr style=\"text-align: right;\">\n",
       "      <th></th>\n",
       "      <th>GP</th>\n",
       "      <th>GS</th>\n",
       "      <th>MIN</th>\n",
       "      <th>PTS</th>\n",
       "      <th>OR</th>\n",
       "      <th>DR</th>\n",
       "      <th>REB</th>\n",
       "      <th>AST</th>\n",
       "      <th>STL</th>\n",
       "      <th>BLK</th>\n",
       "      <th>...</th>\n",
       "      <th>3PA</th>\n",
       "      <th>3P%</th>\n",
       "      <th>FTM</th>\n",
       "      <th>FTA</th>\n",
       "      <th>FT%</th>\n",
       "      <th>2PM</th>\n",
       "      <th>2PA</th>\n",
       "      <th>2P%</th>\n",
       "      <th>SC-EFF</th>\n",
       "      <th>SH-EFF</th>\n",
       "    </tr>\n",
       "  </thead>\n",
       "  <tbody>\n",
       "    <tr>\n",
       "      <th>Stephen Curry</th>\n",
       "      <td>33</td>\n",
       "      <td>33</td>\n",
       "      <td>34.8</td>\n",
       "      <td>27.7</td>\n",
       "      <td>0.6</td>\n",
       "      <td>4.7</td>\n",
       "      <td>5.3</td>\n",
       "      <td>6.0</td>\n",
       "      <td>1.5</td>\n",
       "      <td>0.5</td>\n",
       "      <td>...</td>\n",
       "      <td>13.5</td>\n",
       "      <td>40.0</td>\n",
       "      <td>4.5</td>\n",
       "      <td>4.9</td>\n",
       "      <td>92.0</td>\n",
       "      <td>3.5</td>\n",
       "      <td>7.1</td>\n",
       "      <td>49.8</td>\n",
       "      <td>1.350</td>\n",
       "      <td>0.56</td>\n",
       "    </tr>\n",
       "    <tr>\n",
       "      <th>Andrew Wiggins</th>\n",
       "      <td>31</td>\n",
       "      <td>31</td>\n",
       "      <td>31.3</td>\n",
       "      <td>19.0</td>\n",
       "      <td>1.3</td>\n",
       "      <td>3.2</td>\n",
       "      <td>4.5</td>\n",
       "      <td>1.8</td>\n",
       "      <td>0.9</td>\n",
       "      <td>0.6</td>\n",
       "      <td>...</td>\n",
       "      <td>5.4</td>\n",
       "      <td>43.4</td>\n",
       "      <td>2.5</td>\n",
       "      <td>3.6</td>\n",
       "      <td>69.0</td>\n",
       "      <td>4.7</td>\n",
       "      <td>9.2</td>\n",
       "      <td>51.8</td>\n",
       "      <td>1.307</td>\n",
       "      <td>0.57</td>\n",
       "    </tr>\n",
       "    <tr>\n",
       "      <th>Jordan Poole</th>\n",
       "      <td>29</td>\n",
       "      <td>28</td>\n",
       "      <td>30.2</td>\n",
       "      <td>17.6</td>\n",
       "      <td>0.3</td>\n",
       "      <td>3.1</td>\n",
       "      <td>3.4</td>\n",
       "      <td>3.4</td>\n",
       "      <td>1.0</td>\n",
       "      <td>0.2</td>\n",
       "      <td>...</td>\n",
       "      <td>7.6</td>\n",
       "      <td>33.9</td>\n",
       "      <td>2.9</td>\n",
       "      <td>3.2</td>\n",
       "      <td>90.2</td>\n",
       "      <td>3.5</td>\n",
       "      <td>6.1</td>\n",
       "      <td>57.4</td>\n",
       "      <td>1.285</td>\n",
       "      <td>0.54</td>\n",
       "    </tr>\n",
       "    <tr>\n",
       "      <th>Damion Lee</th>\n",
       "      <td>25</td>\n",
       "      <td>2</td>\n",
       "      <td>20.8</td>\n",
       "      <td>8.4</td>\n",
       "      <td>0.3</td>\n",
       "      <td>2.8</td>\n",
       "      <td>3.1</td>\n",
       "      <td>1.0</td>\n",
       "      <td>0.4</td>\n",
       "      <td>0.1</td>\n",
       "      <td>...</td>\n",
       "      <td>3.4</td>\n",
       "      <td>34.9</td>\n",
       "      <td>1.1</td>\n",
       "      <td>1.2</td>\n",
       "      <td>87.1</td>\n",
       "      <td>1.9</td>\n",
       "      <td>3.6</td>\n",
       "      <td>52.2</td>\n",
       "      <td>1.199</td>\n",
       "      <td>0.52</td>\n",
       "    </tr>\n",
       "    <tr>\n",
       "      <th>Draymond Green</th>\n",
       "      <td>31</td>\n",
       "      <td>31</td>\n",
       "      <td>30.6</td>\n",
       "      <td>8.4</td>\n",
       "      <td>1.2</td>\n",
       "      <td>6.8</td>\n",
       "      <td>7.9</td>\n",
       "      <td>7.5</td>\n",
       "      <td>1.4</td>\n",
       "      <td>1.2</td>\n",
       "      <td>...</td>\n",
       "      <td>1.2</td>\n",
       "      <td>28.9</td>\n",
       "      <td>1.3</td>\n",
       "      <td>2.2</td>\n",
       "      <td>59.7</td>\n",
       "      <td>3.0</td>\n",
       "      <td>5.0</td>\n",
       "      <td>61.0</td>\n",
       "      <td>1.359</td>\n",
       "      <td>0.58</td>\n",
       "    </tr>\n",
       "    <tr>\n",
       "      <th>Otto Porter Jr.</th>\n",
       "      <td>30</td>\n",
       "      <td>3</td>\n",
       "      <td>21.3</td>\n",
       "      <td>8.2</td>\n",
       "      <td>0.9</td>\n",
       "      <td>4.0</td>\n",
       "      <td>4.9</td>\n",
       "      <td>1.4</td>\n",
       "      <td>0.9</td>\n",
       "      <td>0.5</td>\n",
       "      <td>...</td>\n",
       "      <td>4.0</td>\n",
       "      <td>40.0</td>\n",
       "      <td>0.5</td>\n",
       "      <td>0.6</td>\n",
       "      <td>78.9</td>\n",
       "      <td>1.4</td>\n",
       "      <td>2.5</td>\n",
       "      <td>58.1</td>\n",
       "      <td>1.263</td>\n",
       "      <td>0.59</td>\n",
       "    </tr>\n",
       "    <tr>\n",
       "      <th>Gary Payton II</th>\n",
       "      <td>34</td>\n",
       "      <td>5</td>\n",
       "      <td>16.2</td>\n",
       "      <td>7.7</td>\n",
       "      <td>1.1</td>\n",
       "      <td>2.3</td>\n",
       "      <td>3.4</td>\n",
       "      <td>0.8</td>\n",
       "      <td>1.2</td>\n",
       "      <td>0.2</td>\n",
       "      <td>...</td>\n",
       "      <td>1.8</td>\n",
       "      <td>41.9</td>\n",
       "      <td>0.7</td>\n",
       "      <td>1.1</td>\n",
       "      <td>59.0</td>\n",
       "      <td>2.4</td>\n",
       "      <td>3.1</td>\n",
       "      <td>76.2</td>\n",
       "      <td>1.563</td>\n",
       "      <td>0.71</td>\n",
       "    </tr>\n",
       "    <tr>\n",
       "      <th>Nemanja Bjelica</th>\n",
       "      <td>35</td>\n",
       "      <td>0</td>\n",
       "      <td>15.1</td>\n",
       "      <td>6.7</td>\n",
       "      <td>0.9</td>\n",
       "      <td>3.1</td>\n",
       "      <td>4.0</td>\n",
       "      <td>1.6</td>\n",
       "      <td>0.6</td>\n",
       "      <td>0.3</td>\n",
       "      <td>...</td>\n",
       "      <td>2.5</td>\n",
       "      <td>39.1</td>\n",
       "      <td>0.9</td>\n",
       "      <td>1.3</td>\n",
       "      <td>67.4</td>\n",
       "      <td>1.4</td>\n",
       "      <td>2.8</td>\n",
       "      <td>51.5</td>\n",
       "      <td>1.266</td>\n",
       "      <td>0.55</td>\n",
       "    </tr>\n",
       "    <tr>\n",
       "      <th>Quinndary Weatherspoon</th>\n",
       "      <td>1</td>\n",
       "      <td>0</td>\n",
       "      <td>14.0</td>\n",
       "      <td>6.0</td>\n",
       "      <td>0.0</td>\n",
       "      <td>1.0</td>\n",
       "      <td>1.0</td>\n",
       "      <td>0.0</td>\n",
       "      <td>1.0</td>\n",
       "      <td>1.0</td>\n",
       "      <td>...</td>\n",
       "      <td>0.0</td>\n",
       "      <td>0.0</td>\n",
       "      <td>0.0</td>\n",
       "      <td>0.0</td>\n",
       "      <td>0.0</td>\n",
       "      <td>3.0</td>\n",
       "      <td>3.0</td>\n",
       "      <td>100.0</td>\n",
       "      <td>2.000</td>\n",
       "      <td>1.00</td>\n",
       "    </tr>\n",
       "    <tr>\n",
       "      <th>Kevon Looney</th>\n",
       "      <td>35</td>\n",
       "      <td>35</td>\n",
       "      <td>19.5</td>\n",
       "      <td>6.0</td>\n",
       "      <td>2.3</td>\n",
       "      <td>4.0</td>\n",
       "      <td>6.3</td>\n",
       "      <td>1.5</td>\n",
       "      <td>0.5</td>\n",
       "      <td>0.8</td>\n",
       "      <td>...</td>\n",
       "      <td>0.0</td>\n",
       "      <td>0.0</td>\n",
       "      <td>0.9</td>\n",
       "      <td>1.6</td>\n",
       "      <td>60.0</td>\n",
       "      <td>2.5</td>\n",
       "      <td>4.6</td>\n",
       "      <td>55.0</td>\n",
       "      <td>1.298</td>\n",
       "      <td>0.55</td>\n",
       "    </tr>\n",
       "    <tr>\n",
       "      <th>Juan Toscano-Anderson</th>\n",
       "      <td>34</td>\n",
       "      <td>3</td>\n",
       "      <td>16.6</td>\n",
       "      <td>4.9</td>\n",
       "      <td>0.6</td>\n",
       "      <td>2.3</td>\n",
       "      <td>2.9</td>\n",
       "      <td>2.2</td>\n",
       "      <td>0.7</td>\n",
       "      <td>0.4</td>\n",
       "      <td>...</td>\n",
       "      <td>1.3</td>\n",
       "      <td>25.6</td>\n",
       "      <td>0.6</td>\n",
       "      <td>1.1</td>\n",
       "      <td>59.5</td>\n",
       "      <td>1.6</td>\n",
       "      <td>2.6</td>\n",
       "      <td>63.2</td>\n",
       "      <td>1.269</td>\n",
       "      <td>0.55</td>\n",
       "    </tr>\n",
       "    <tr>\n",
       "      <th>Jonathan Kuminga</th>\n",
       "      <td>25</td>\n",
       "      <td>2</td>\n",
       "      <td>9.2</td>\n",
       "      <td>4.8</td>\n",
       "      <td>0.3</td>\n",
       "      <td>1.2</td>\n",
       "      <td>1.5</td>\n",
       "      <td>0.3</td>\n",
       "      <td>0.4</td>\n",
       "      <td>0.1</td>\n",
       "      <td>...</td>\n",
       "      <td>1.2</td>\n",
       "      <td>29.0</td>\n",
       "      <td>0.9</td>\n",
       "      <td>1.6</td>\n",
       "      <td>56.4</td>\n",
       "      <td>1.4</td>\n",
       "      <td>2.3</td>\n",
       "      <td>60.3</td>\n",
       "      <td>1.337</td>\n",
       "      <td>0.54</td>\n",
       "    </tr>\n",
       "    <tr>\n",
       "      <th>Andre Iguodala</th>\n",
       "      <td>18</td>\n",
       "      <td>0</td>\n",
       "      <td>20.6</td>\n",
       "      <td>4.7</td>\n",
       "      <td>0.8</td>\n",
       "      <td>2.8</td>\n",
       "      <td>3.6</td>\n",
       "      <td>4.1</td>\n",
       "      <td>0.7</td>\n",
       "      <td>0.7</td>\n",
       "      <td>...</td>\n",
       "      <td>2.6</td>\n",
       "      <td>23.9</td>\n",
       "      <td>0.5</td>\n",
       "      <td>0.7</td>\n",
       "      <td>75.0</td>\n",
       "      <td>1.2</td>\n",
       "      <td>1.6</td>\n",
       "      <td>72.4</td>\n",
       "      <td>1.120</td>\n",
       "      <td>0.50</td>\n",
       "    </tr>\n",
       "    <tr>\n",
       "      <th>Chris Chiozza</th>\n",
       "      <td>17</td>\n",
       "      <td>1</td>\n",
       "      <td>12.1</td>\n",
       "      <td>2.4</td>\n",
       "      <td>0.5</td>\n",
       "      <td>0.9</td>\n",
       "      <td>1.4</td>\n",
       "      <td>1.8</td>\n",
       "      <td>0.5</td>\n",
       "      <td>0.0</td>\n",
       "      <td>...</td>\n",
       "      <td>1.9</td>\n",
       "      <td>34.4</td>\n",
       "      <td>0.1</td>\n",
       "      <td>0.1</td>\n",
       "      <td>100.0</td>\n",
       "      <td>0.2</td>\n",
       "      <td>1.1</td>\n",
       "      <td>16.7</td>\n",
       "      <td>0.800</td>\n",
       "      <td>0.39</td>\n",
       "    </tr>\n",
       "    <tr>\n",
       "      <th>Moses Moody</th>\n",
       "      <td>22</td>\n",
       "      <td>1</td>\n",
       "      <td>6.5</td>\n",
       "      <td>1.8</td>\n",
       "      <td>0.1</td>\n",
       "      <td>0.8</td>\n",
       "      <td>0.9</td>\n",
       "      <td>0.3</td>\n",
       "      <td>0.1</td>\n",
       "      <td>0.2</td>\n",
       "      <td>...</td>\n",
       "      <td>1.2</td>\n",
       "      <td>14.8</td>\n",
       "      <td>0.2</td>\n",
       "      <td>0.3</td>\n",
       "      <td>57.1</td>\n",
       "      <td>0.5</td>\n",
       "      <td>1.0</td>\n",
       "      <td>57.1</td>\n",
       "      <td>0.833</td>\n",
       "      <td>0.38</td>\n",
       "    </tr>\n",
       "    <tr>\n",
       "      <th>Jeff Dowtin</th>\n",
       "      <td>4</td>\n",
       "      <td>0</td>\n",
       "      <td>7.0</td>\n",
       "      <td>1.5</td>\n",
       "      <td>0.3</td>\n",
       "      <td>1.5</td>\n",
       "      <td>1.8</td>\n",
       "      <td>0.8</td>\n",
       "      <td>0.0</td>\n",
       "      <td>0.3</td>\n",
       "      <td>...</td>\n",
       "      <td>0.3</td>\n",
       "      <td>0.0</td>\n",
       "      <td>0.0</td>\n",
       "      <td>0.0</td>\n",
       "      <td>0.0</td>\n",
       "      <td>0.8</td>\n",
       "      <td>1.3</td>\n",
       "      <td>60.0</td>\n",
       "      <td>1.000</td>\n",
       "      <td>0.50</td>\n",
       "    </tr>\n",
       "    <tr>\n",
       "      <th>Total</th>\n",
       "      <td>35</td>\n",
       "      <td></td>\n",
       "      <td></td>\n",
       "      <td>111.2</td>\n",
       "      <td>9.8</td>\n",
       "      <td>36.3</td>\n",
       "      <td>46.1</td>\n",
       "      <td>28.1</td>\n",
       "      <td>9.3</td>\n",
       "      <td>5.0</td>\n",
       "      <td>...</td>\n",
       "      <td>40.2</td>\n",
       "      <td>37.0</td>\n",
       "      <td>15.3</td>\n",
       "      <td>20.6</td>\n",
       "      <td>74.6</td>\n",
       "      <td>25.7</td>\n",
       "      <td>45.5</td>\n",
       "      <td>56.3</td>\n",
       "      <td>1.298</td>\n",
       "      <td>0.56</td>\n",
       "    </tr>\n",
       "  </tbody>\n",
       "</table>\n",
       "<p>17 rows × 28 columns</p>\n",
       "</div>"
      ],
      "text/plain": [
       "                        GP  GS   MIN    PTS   OR    DR   REB   AST  STL  BLK  \\\n",
       "Stephen Curry           33  33  34.8   27.7  0.6   4.7   5.3   6.0  1.5  0.5   \n",
       "Andrew Wiggins          31  31  31.3   19.0  1.3   3.2   4.5   1.8  0.9  0.6   \n",
       "Jordan Poole            29  28  30.2   17.6  0.3   3.1   3.4   3.4  1.0  0.2   \n",
       "Damion Lee              25   2  20.8    8.4  0.3   2.8   3.1   1.0  0.4  0.1   \n",
       "Draymond Green          31  31  30.6    8.4  1.2   6.8   7.9   7.5  1.4  1.2   \n",
       "Otto Porter Jr.         30   3  21.3    8.2  0.9   4.0   4.9   1.4  0.9  0.5   \n",
       "Gary Payton II          34   5  16.2    7.7  1.1   2.3   3.4   0.8  1.2  0.2   \n",
       "Nemanja Bjelica         35   0  15.1    6.7  0.9   3.1   4.0   1.6  0.6  0.3   \n",
       "Quinndary Weatherspoon   1   0  14.0    6.0  0.0   1.0   1.0   0.0  1.0  1.0   \n",
       "Kevon Looney            35  35  19.5    6.0  2.3   4.0   6.3   1.5  0.5  0.8   \n",
       "Juan Toscano-Anderson   34   3  16.6    4.9  0.6   2.3   2.9   2.2  0.7  0.4   \n",
       "Jonathan Kuminga        25   2   9.2    4.8  0.3   1.2   1.5   0.3  0.4  0.1   \n",
       "Andre Iguodala          18   0  20.6    4.7  0.8   2.8   3.6   4.1  0.7  0.7   \n",
       "Chris Chiozza           17   1  12.1    2.4  0.5   0.9   1.4   1.8  0.5  0.0   \n",
       "Moses Moody             22   1   6.5    1.8  0.1   0.8   0.9   0.3  0.1  0.2   \n",
       "Jeff Dowtin              4   0   7.0    1.5  0.3   1.5   1.8   0.8  0.0  0.3   \n",
       "Total                   35            111.2  9.8  36.3  46.1  28.1  9.3  5.0   \n",
       "\n",
       "                        ...   3PA   3P%   FTM   FTA    FT%   2PM   2PA    2P%  \\\n",
       "Stephen Curry           ...  13.5  40.0   4.5   4.9   92.0   3.5   7.1   49.8   \n",
       "Andrew Wiggins          ...   5.4  43.4   2.5   3.6   69.0   4.7   9.2   51.8   \n",
       "Jordan Poole            ...   7.6  33.9   2.9   3.2   90.2   3.5   6.1   57.4   \n",
       "Damion Lee              ...   3.4  34.9   1.1   1.2   87.1   1.9   3.6   52.2   \n",
       "Draymond Green          ...   1.2  28.9   1.3   2.2   59.7   3.0   5.0   61.0   \n",
       "Otto Porter Jr.         ...   4.0  40.0   0.5   0.6   78.9   1.4   2.5   58.1   \n",
       "Gary Payton II          ...   1.8  41.9   0.7   1.1   59.0   2.4   3.1   76.2   \n",
       "Nemanja Bjelica         ...   2.5  39.1   0.9   1.3   67.4   1.4   2.8   51.5   \n",
       "Quinndary Weatherspoon  ...   0.0   0.0   0.0   0.0    0.0   3.0   3.0  100.0   \n",
       "Kevon Looney            ...   0.0   0.0   0.9   1.6   60.0   2.5   4.6   55.0   \n",
       "Juan Toscano-Anderson   ...   1.3  25.6   0.6   1.1   59.5   1.6   2.6   63.2   \n",
       "Jonathan Kuminga        ...   1.2  29.0   0.9   1.6   56.4   1.4   2.3   60.3   \n",
       "Andre Iguodala          ...   2.6  23.9   0.5   0.7   75.0   1.2   1.6   72.4   \n",
       "Chris Chiozza           ...   1.9  34.4   0.1   0.1  100.0   0.2   1.1   16.7   \n",
       "Moses Moody             ...   1.2  14.8   0.2   0.3   57.1   0.5   1.0   57.1   \n",
       "Jeff Dowtin             ...   0.3   0.0   0.0   0.0    0.0   0.8   1.3   60.0   \n",
       "Total                   ...  40.2  37.0  15.3  20.6   74.6  25.7  45.5   56.3   \n",
       "\n",
       "                       SC-EFF SH-EFF  \n",
       "Stephen Curry           1.350   0.56  \n",
       "Andrew Wiggins          1.307   0.57  \n",
       "Jordan Poole            1.285   0.54  \n",
       "Damion Lee              1.199   0.52  \n",
       "Draymond Green          1.359   0.58  \n",
       "Otto Porter Jr.         1.263   0.59  \n",
       "Gary Payton II          1.563   0.71  \n",
       "Nemanja Bjelica         1.266   0.55  \n",
       "Quinndary Weatherspoon  2.000   1.00  \n",
       "Kevon Looney            1.298   0.55  \n",
       "Juan Toscano-Anderson   1.269   0.55  \n",
       "Jonathan Kuminga        1.337   0.54  \n",
       "Andre Iguodala          1.120   0.50  \n",
       "Chris Chiozza           0.800   0.39  \n",
       "Moses Moody             0.833   0.38  \n",
       "Jeff Dowtin             1.000   0.50  \n",
       "Total                   1.298   0.56  \n",
       "\n",
       "[17 rows x 28 columns]"
      ]
     },
     "execution_count": 55,
     "metadata": {},
     "output_type": "execute_result"
    }
   ],
   "source": [
    "dfgsw.head()"
   ]
  },
  {
   "cell_type": "code",
   "execution_count": 56,
   "metadata": {},
   "outputs": [],
   "source": [
    "dfgsw.to_excel('WebScrapingNBA.xlsx', sheet_name='GSW')"
   ]
  },
  {
   "cell_type": "markdown",
   "metadata": {},
   "source": [
    "### Storing Data in SQlite Database"
   ]
  },
  {
   "cell_type": "code",
   "execution_count": 57,
   "metadata": {},
   "outputs": [],
   "source": [
    "import sqlite3"
   ]
  },
  {
   "cell_type": "code",
   "execution_count": 68,
   "metadata": {},
   "outputs": [],
   "source": [
    "conn = sqlite3.connect('NBA Data.sqlite')\n",
    "cur = conn.cursor()"
   ]
  },
  {
   "cell_type": "code",
   "execution_count": 69,
   "metadata": {},
   "outputs": [
    {
     "data": {
      "text/plain": [
       "<sqlite3.Cursor at 0x211cbe1a730>"
      ]
     },
     "execution_count": 69,
     "metadata": {},
     "output_type": "execute_result"
    }
   ],
   "source": [
    "cur.execute('DROP TABLE IF EXISTS NBA_Data_GSW')"
   ]
  },
  {
   "cell_type": "code",
   "execution_count": 70,
   "metadata": {},
   "outputs": [
    {
     "data": {
      "text/plain": [
       "<sqlite3.Cursor at 0x211cbe1a730>"
      ]
     },
     "execution_count": 70,
     "metadata": {},
     "output_type": "execute_result"
    }
   ],
   "source": [
    "cur.execute('CREATE TABLE NBA_Data_GSW (Player_name TEXT, GP INTEGER, GS INTEGER, MIN REAL, PTS REAL, ORB REAL, DR REAL)')"
   ]
  },
  {
   "cell_type": "code",
   "execution_count": null,
   "metadata": {},
   "outputs": [],
   "source": [
    "for \n",
    "\n",
    "\n",
    "cur.execute('INSERT INTO NBA_Data_GSW (Player_name) VALUES ')"
   ]
  },
  {
   "cell_type": "markdown",
   "metadata": {},
   "source": [
    "### Phoenix Suns"
   ]
  },
  {
   "cell_type": "code",
   "execution_count": 59,
   "metadata": {},
   "outputs": [],
   "source": [
    "url2 = 'https://www.espn.in/nba/team/stats/_/name/phx'\n",
    "r2 = uReq.get(url2)"
   ]
  },
  {
   "cell_type": "code",
   "execution_count": 60,
   "metadata": {},
   "outputs": [],
   "source": [
    "r2.close()"
   ]
  },
  {
   "cell_type": "code",
   "execution_count": 61,
   "metadata": {},
   "outputs": [],
   "source": [
    "html_page2 = r2.content"
   ]
  },
  {
   "cell_type": "code",
   "execution_count": 62,
   "metadata": {},
   "outputs": [],
   "source": [
    "soup_phx = BeautifulSoup(html_page2, 'html.parser')"
   ]
  },
  {
   "cell_type": "code",
   "execution_count": 63,
   "metadata": {},
   "outputs": [],
   "source": [
    "# Get the table headers\n",
    "t1_header = soup_phx.find_all('thead', class_='Table__header-group Table__THEAD' )"
   ]
  },
  {
   "cell_type": "code",
   "execution_count": 65,
   "metadata": {},
   "outputs": [],
   "source": [
    "t1_header_row = soup_phx.find('tr', {'class': 'Table__TR Table__even'})"
   ]
  },
  {
   "cell_type": "code",
   "execution_count": null,
   "metadata": {},
   "outputs": [],
   "source": [
    "table_header_row = table_header[1].tr"
   ]
  },
  {
   "cell_type": "code",
   "execution_count": null,
   "metadata": {},
   "outputs": [],
   "source": [
    "table_headings = table_header_row.find_all('th')"
   ]
  },
  {
   "cell_type": "code",
   "execution_count": null,
   "metadata": {},
   "outputs": [],
   "source": [
    "table_headings[0].span.a.text"
   ]
  },
  {
   "cell_type": "code",
   "execution_count": null,
   "metadata": {},
   "outputs": [],
   "source": [
    "table_body = soup2.find_all('tbody', class_='Table__TBODY')"
   ]
  },
  {
   "cell_type": "code",
   "execution_count": null,
   "metadata": {},
   "outputs": [],
   "source": [
    "#print(soup2.find_all('tbody'))"
   ]
  },
  {
   "cell_type": "code",
   "execution_count": null,
   "metadata": {},
   "outputs": [],
   "source": [
    "player_names1 = table_body[0]\n",
    "player_stats1 = table_body[1]"
   ]
  },
  {
   "cell_type": "code",
   "execution_count": null,
   "metadata": {},
   "outputs": [],
   "source": [
    "names_rows1 = player_names1.find_all('tr', class_='Table__TR Table__TR--sm Table__even')"
   ]
  },
  {
   "cell_type": "code",
   "execution_count": null,
   "metadata": {},
   "outputs": [],
   "source": [
    "suns_player_names_list = []\n",
    "for name_row in names_rows1:\n",
    "    try:\n",
    "        suns_player_names_list.append(name_row.td.span.a.text)\n",
    "    except:\n",
    "        continue\n",
    "    \n",
    "suns_player_names_list"
   ]
  },
  {
   "cell_type": "code",
   "execution_count": null,
   "metadata": {},
   "outputs": [],
   "source": [
    "suns_player_names_list.append('Total')"
   ]
  },
  {
   "cell_type": "code",
   "execution_count": null,
   "metadata": {},
   "outputs": [],
   "source": [
    "suns_player_rows_list = player_stats1.find_all('tr', class_='Table__TR Table__TR--sm Table__even')"
   ]
  },
  {
   "cell_type": "code",
   "execution_count": null,
   "metadata": {},
   "outputs": [],
   "source": [
    "suns_single_player_stats = suns_player_rows_list[0].find_all('td', class_='Table__TD')"
   ]
  },
  {
   "cell_type": "code",
   "execution_count": null,
   "metadata": {},
   "outputs": [],
   "source": [
    "suns_single_player_stats[0].span"
   ]
  },
  {
   "cell_type": "code",
   "execution_count": null,
   "metadata": {},
   "outputs": [],
   "source": [
    "suns_player_total_list = []\n",
    "for row in range(len(suns_player_rows_list)):\n",
    "    #print(row)\n",
    "    suns_single_player_stats = suns_player_rows_list[row]\n",
    "    suns_single_player_list = []\n",
    "    for stats in suns_single_player_stats.find_all('td',class_='Table__TD'):\n",
    "        try:\n",
    "            suns_single_player_list.append(stats.span.text)\n",
    "        except:\n",
    "            continue\n",
    "    #print(single_player_list)\n",
    "    suns_player_total_list.append(single_player_list)\n",
    "    \n",
    "print(suns_player_total_list)"
   ]
  },
  {
   "cell_type": "code",
   "execution_count": null,
   "metadata": {},
   "outputs": [],
   "source": [
    "df3 = pd.DataFrame(suns_player_total_list, index = suns_player_names_list, columns = table_headings_list)"
   ]
  },
  {
   "cell_type": "code",
   "execution_count": null,
   "metadata": {},
   "outputs": [],
   "source": [
    "#df3"
   ]
  },
  {
   "cell_type": "code",
   "execution_count": null,
   "metadata": {},
   "outputs": [],
   "source": []
  }
 ],
 "metadata": {
  "kernelspec": {
   "display_name": "Python 3",
   "language": "python",
   "name": "python3"
  },
  "language_info": {
   "codemirror_mode": {
    "name": "ipython",
    "version": 3
   },
   "file_extension": ".py",
   "mimetype": "text/x-python",
   "name": "python",
   "nbconvert_exporter": "python",
   "pygments_lexer": "ipython3",
   "version": "3.8.5"
  }
 },
 "nbformat": 4,
 "nbformat_minor": 4
}

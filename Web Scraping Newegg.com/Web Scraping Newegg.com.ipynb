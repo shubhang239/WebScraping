{
 "cells": [
  {
   "cell_type": "code",
   "execution_count": 2,
   "metadata": {},
   "outputs": [],
   "source": [
    "from urllib.request import urlopen as uReq\n",
    "from bs4 import BeautifulSoup as soup"
   ]
  },
  {
   "cell_type": "code",
   "execution_count": 3,
   "metadata": {},
   "outputs": [],
   "source": [
    "my_url = 'https://www.newegg.com/global/in-en/p/pl?d=graphics+card'"
   ]
  },
  {
   "cell_type": "code",
   "execution_count": 4,
   "metadata": {},
   "outputs": [],
   "source": [
    "uClient = uReq(my_url)"
   ]
  },
  {
   "cell_type": "code",
   "execution_count": 5,
   "metadata": {},
   "outputs": [],
   "source": [
    "page_html = uClient.read()"
   ]
  },
  {
   "cell_type": "code",
   "execution_count": 6,
   "metadata": {},
   "outputs": [],
   "source": [
    "uClient.close()"
   ]
  },
  {
   "cell_type": "code",
   "execution_count": 7,
   "metadata": {},
   "outputs": [],
   "source": [
    "page_soup = soup(page_html, \"html.parser\")"
   ]
  },
  {
   "cell_type": "code",
   "execution_count": 8,
   "metadata": {},
   "outputs": [
    {
     "data": {
      "text/plain": [
       "<h1 class=\"header2021-logo\"><a class=\"header2021-logo-img\" href=\"https://www.newegg.com/global/in-en/\" title=\"Newegg.com - Computer Parts, Laptops, Electronics, HDTVs, Digital Cameras and More!\"><img alt=\"Newegg\" src=\"https://c1.neweggimages.com/WebResource/Themes/Nest/logos/Newegg_full_color_logo_RGB.SVG\"/></a></h1>"
      ]
     },
     "execution_count": 8,
     "metadata": {},
     "output_type": "execute_result"
    }
   ],
   "source": [
    "page_soup.h1"
   ]
  },
  {
   "cell_type": "code",
   "execution_count": 9,
   "metadata": {},
   "outputs": [
    {
     "data": {
      "text/plain": [
       "<a class=\"header2021-logo-img\" href=\"https://www.newegg.com/global/in-en/\" title=\"Newegg.com - Computer Parts, Laptops, Electronics, HDTVs, Digital Cameras and More!\"><img alt=\"Newegg\" src=\"https://c1.neweggimages.com/WebResource/Themes/Nest/logos/Newegg_full_color_logo_RGB.SVG\"/></a>"
      ]
     },
     "execution_count": 9,
     "metadata": {},
     "output_type": "execute_result"
    }
   ],
   "source": [
    "page_soup.h1.a"
   ]
  },
  {
   "cell_type": "code",
   "execution_count": 10,
   "metadata": {},
   "outputs": [
    {
     "data": {
      "text/plain": [
       "<img alt=\"Newegg\" src=\"https://c1.neweggimages.com/WebResource/Themes/Nest/logos/Newegg_full_color_logo_RGB.SVG\"/>"
      ]
     },
     "execution_count": 10,
     "metadata": {},
     "output_type": "execute_result"
    }
   ],
   "source": [
    "page_soup.h1.a.img"
   ]
  },
  {
   "cell_type": "code",
   "execution_count": 11,
   "metadata": {},
   "outputs": [
    {
     "data": {
      "text/plain": [
       "<p class=\"item-msg\"><a class=\"shipped-by-newegg\" href=\"https://kb.newegg.com/knowledge-base/shipped-by-newegg/\">Shipped by Newegg</a></p>"
      ]
     },
     "execution_count": 11,
     "metadata": {},
     "output_type": "execute_result"
    }
   ],
   "source": [
    "page_soup.p"
   ]
  },
  {
   "cell_type": "code",
   "execution_count": 12,
   "metadata": {},
   "outputs": [
    {
     "data": {
      "text/plain": [
       "<a class=\"shipped-by-newegg\" href=\"https://kb.newegg.com/knowledge-base/shipped-by-newegg/\">Shipped by Newegg</a>"
      ]
     },
     "execution_count": 12,
     "metadata": {},
     "output_type": "execute_result"
    }
   ],
   "source": [
    "page_soup.p.a"
   ]
  },
  {
   "cell_type": "code",
   "execution_count": 13,
   "metadata": {},
   "outputs": [
    {
     "data": {
      "text/plain": [
       "'Shipped by Newegg'"
      ]
     },
     "execution_count": 13,
     "metadata": {},
     "output_type": "execute_result"
    }
   ],
   "source": [
    "page_soup.p.a.text"
   ]
  },
  {
   "cell_type": "code",
   "execution_count": 14,
   "metadata": {},
   "outputs": [],
   "source": [
    "containers = page_soup.findAll('div', {\"class\": \"item-container\"})"
   ]
  },
  {
   "cell_type": "code",
   "execution_count": 16,
   "metadata": {},
   "outputs": [
    {
     "data": {
      "text/plain": [
       "36"
      ]
     },
     "execution_count": 16,
     "metadata": {},
     "output_type": "execute_result"
    }
   ],
   "source": [
    "len(containers)"
   ]
  },
  {
   "cell_type": "code",
   "execution_count": 31,
   "metadata": {},
   "outputs": [
    {
     "data": {
      "text/plain": [
       "<div class=\"item-container\"><a class=\"item-img\" href=\"https://www.newegg.com/global/in-en/asus-geforce-rtx-2060-dual-rtx2060-o6g-evo/p/N82E16814126349?Description=graphics card&amp;cm_re=graphics_card-_-14-126-349-_-Product\"><img alt=\"ASUS GeForce RTX 2060 Overclocked 6G GDDR6 Dual-Fan EVO Edition VR Ready HDMI DisplayPort DVI Graphics Card (DUAL-RTX2060-O6G-EVO)\" src=\"https://c1.neweggimages.com/ProductImageCompressAll300/14-126-349-V01.jpg\" title=\"ASUS GeForce RTX 2060 Overclocked 6G GDDR6 Dual-Fan EVO Edition VR Ready HDMI DisplayPort DVI Graphics Card (DUAL-RTX2060-O6G-EVO)\"/><div class=\"btn btn-large btn-quickview\">Quick View</div></a><div class=\"item-info\"><div class=\"item-branding\"><a class=\"item-brand\" href=\"https://www.newegg.com/global/in-en/ASUS/BrandStore/ID-1315\"><img alt=\"ASUS\" src=\"https://c1.neweggimages.com/Brandimage_70x28/Brand1315.gif\" title=\"ASUS\"/></a><a class=\"item-rating\" href=\"https://www.newegg.com/global/in-en/asus-geforce-rtx-2060-dual-rtx2060-o6g-evo/p/N82E16814126349?IsFeedbackTab=true#scrollFullInfo\" title=\"Rating + 5\"><i aria-label=\"rated 5 out of 5\" class=\"rating rating-5\"></i><span class=\"item-rating-num\">(198)</span></a></div><a class=\"item-title\" href=\"https://www.newegg.com/global/in-en/asus-geforce-rtx-2060-dual-rtx2060-o6g-evo/p/N82E16814126349?Description=graphics card&amp;cm_re=graphics_card-_-14-126-349-_-Product\" title=\"View Details\">ASUS GeForce RTX 2060 Overclocked 6G GDDR6 Dual-Fan EVO Edition VR Ready HDMI DisplayPort DVI Graphics Card (DUAL-RTX2060-O6G-EVO)</a><ul class=\"item-features\"><li><strong>Core Clock:</strong> OC Mode: 1395 MHz\n",
       "Gaming Mode (Default): 1365 MHz</li><li><strong>Max Resolution:</strong> 7680 x 4320</li><li><strong>DisplayPort:</strong> 1 x DisplayPort 1.4</li><li><strong>DVI:</strong> 1 x DVI-D</li><li><strong>Model #: </strong>DUAL-RTX2060-O6G-EVO</li><li><strong>Return Policy: </strong><a href=\"https://www.newegg.com/global/in-en/Seller-Store/Micron-Tech/about\" target=\"_blank\" title=\"View Return Policy(new window)\">View Return Policy</a></li></ul></div><div class=\"item-action\"><ul class=\"price\"><li class=\"price-was\"></li><li class=\"price-map\"> </li><li class=\"price-current\">₹ 96,652<!-- --> <a class=\"price-current-num\" href=\"https://www.newegg.com/global/in-en/asus-geforce-rtx-2060-dual-rtx2060-o6g-evo/p/N82E16814126349?Item=9SIB1PGFBZ8460&amp;Description=graphics+card&amp;buyingoptions=New\">(2 Offers)</a><span class=\"price-current-range\"><abbr title=\"to\">–</abbr></span></li><li class=\"price-save\"></li><li class=\"price-ship\">₹ 22,110 Shipping</li></ul><div class=\"item-operate\"><div class=\"item-button-area\"><button class=\"btn btn-mini\" title=\"View Details \">View Details <i class=\"fas fa-caret-right\"></i></button></div><div class=\"item-compare-box\"><label class=\"form-checkbox\"><input autocomplete=\"off\" type=\"checkbox\"/><span class=\"form-checkbox-title\">Compare</span></label></div></div></div><div class=\"item-stock\" id=\"stock_9SIB1PGFBZ8460\"></div></div>"
      ]
     },
     "execution_count": 31,
     "metadata": {},
     "output_type": "execute_result"
    }
   ],
   "source": [
    "containers[0]"
   ]
  },
  {
   "cell_type": "code",
   "execution_count": 21,
   "metadata": {},
   "outputs": [],
   "source": [
    "container = containers[0]"
   ]
  },
  {
   "cell_type": "code",
   "execution_count": 22,
   "metadata": {},
   "outputs": [
    {
     "name": "stdout",
     "output_type": "stream",
     "text": [
      "None\n"
     ]
    }
   ],
   "source": [
    "print(container.div.div)"
   ]
  },
  {
   "cell_type": "code",
   "execution_count": 23,
   "metadata": {},
   "outputs": [
    {
     "data": {
      "text/plain": [
       "<div class=\"item-container\"><a class=\"item-img\" href=\"https://www.newegg.com/global/in-en/asus-geforce-rtx-2060-dual-rtx2060-o6g-evo/p/N82E16814126349?Description=graphics card&amp;cm_re=graphics_card-_-14-126-349-_-Product\"><img alt=\"ASUS GeForce RTX 2060 Overclocked 6G GDDR6 Dual-Fan EVO Edition VR Ready HDMI DisplayPort DVI Graphics Card (DUAL-RTX2060-O6G-EVO)\" src=\"https://c1.neweggimages.com/ProductImageCompressAll300/14-126-349-V01.jpg\" title=\"ASUS GeForce RTX 2060 Overclocked 6G GDDR6 Dual-Fan EVO Edition VR Ready HDMI DisplayPort DVI Graphics Card (DUAL-RTX2060-O6G-EVO)\"/><div class=\"btn btn-large btn-quickview\">Quick View</div></a><div class=\"item-info\"><div class=\"item-branding\"><a class=\"item-brand\" href=\"https://www.newegg.com/global/in-en/ASUS/BrandStore/ID-1315\"><img alt=\"ASUS\" src=\"https://c1.neweggimages.com/Brandimage_70x28/Brand1315.gif\" title=\"ASUS\"/></a><a class=\"item-rating\" href=\"https://www.newegg.com/global/in-en/asus-geforce-rtx-2060-dual-rtx2060-o6g-evo/p/N82E16814126349?IsFeedbackTab=true#scrollFullInfo\" title=\"Rating + 5\"><i aria-label=\"rated 5 out of 5\" class=\"rating rating-5\"></i><span class=\"item-rating-num\">(198)</span></a></div><a class=\"item-title\" href=\"https://www.newegg.com/global/in-en/asus-geforce-rtx-2060-dual-rtx2060-o6g-evo/p/N82E16814126349?Description=graphics card&amp;cm_re=graphics_card-_-14-126-349-_-Product\" title=\"View Details\">ASUS GeForce RTX 2060 Overclocked 6G GDDR6 Dual-Fan EVO Edition VR Ready HDMI DisplayPort DVI Graphics Card (DUAL-RTX2060-O6G-EVO)</a><ul class=\"item-features\"><li><strong>Core Clock:</strong> OC Mode: 1395 MHz\n",
       "Gaming Mode (Default): 1365 MHz</li><li><strong>Max Resolution:</strong> 7680 x 4320</li><li><strong>DisplayPort:</strong> 1 x DisplayPort 1.4</li><li><strong>DVI:</strong> 1 x DVI-D</li><li><strong>Model #: </strong>DUAL-RTX2060-O6G-EVO</li><li><strong>Return Policy: </strong><a href=\"https://www.newegg.com/global/in-en/Seller-Store/Micron-Tech/about\" target=\"_blank\" title=\"View Return Policy(new window)\">View Return Policy</a></li></ul></div><div class=\"item-action\"><ul class=\"price\"><li class=\"price-was\"></li><li class=\"price-map\"> </li><li class=\"price-current\">₹ 96,652<!-- --> <a class=\"price-current-num\" href=\"https://www.newegg.com/global/in-en/asus-geforce-rtx-2060-dual-rtx2060-o6g-evo/p/N82E16814126349?Item=9SIB1PGFBZ8460&amp;Description=graphics+card&amp;buyingoptions=New\">(2 Offers)</a><span class=\"price-current-range\"><abbr title=\"to\">–</abbr></span></li><li class=\"price-save\"></li><li class=\"price-ship\">₹ 22,110 Shipping</li></ul><div class=\"item-operate\"><div class=\"item-button-area\"><button class=\"btn btn-mini\" title=\"View Details \">View Details <i class=\"fas fa-caret-right\"></i></button></div><div class=\"item-compare-box\"><label class=\"form-checkbox\"><input autocomplete=\"off\" type=\"checkbox\"/><span class=\"form-checkbox-title\">Compare</span></label></div></div></div><div class=\"item-stock\" id=\"stock_9SIB1PGFBZ8460\"></div></div>"
      ]
     },
     "execution_count": 23,
     "metadata": {},
     "output_type": "execute_result"
    }
   ],
   "source": [
    "container"
   ]
  },
  {
   "cell_type": "code",
   "execution_count": 24,
   "metadata": {},
   "outputs": [],
   "source": [
    "price_container = container.findAll('li', {'class':'price-current'})"
   ]
  },
  {
   "cell_type": "code",
   "execution_count": 53,
   "metadata": {},
   "outputs": [],
   "source": [
    "rating = container.find('div', class_='item-branding').find('a', class_='item-rating')['title']"
   ]
  },
  {
   "cell_type": "code",
   "execution_count": 25,
   "metadata": {},
   "outputs": [
    {
     "data": {
      "text/plain": [
       "'₹ 96,652\\xa0(2 Offers)–'"
      ]
     },
     "execution_count": 25,
     "metadata": {},
     "output_type": "execute_result"
    }
   ],
   "source": [
    "price_container[0].text"
   ]
  },
  {
   "cell_type": "code",
   "execution_count": 45,
   "metadata": {},
   "outputs": [],
   "source": [
    "title = container.find('div', class_='item-info').div.a.img['title']"
   ]
  },
  {
   "cell_type": "code",
   "execution_count": 56,
   "metadata": {},
   "outputs": [
    {
     "name": "stdout",
     "output_type": "stream",
     "text": [
      "Product Name ASUS GeForce RTX 2060 Overclocked 6G GDDR6 Dual-Fan EVO Edition VR Ready HDMI DisplayPort DVI Graphics Card (DUAL-RTX2060-O6G-EVO)\n",
      "Product Price ₹ 96,652 (2 Offers)–\n",
      "Product Rating Rating + 5\n",
      "----------------*---------------*---------------*-------------*---------------*\n",
      "Product Name MSI Ventus GeForce GTX 1650 4GB GDDR5 PCI Express 3.0 x16 Video Card GTX 1650 VENTUS XS 4G OC\n",
      "Product Price ₹ 35,182 (3 Offers)–\n",
      "Product Rating Rating + 4\n",
      "----------------*---------------*---------------*-------------*---------------*\n",
      "Product Name GIGABYTE Radeon RX 6600 EAGLE 8G Graphics Card, WINDFORCE 3X Cooling System, 8GB 128-bit GDDR6, GV-R66EAGLE-8GD Video Card\n",
      "Product Price ₹ 51,568 –\n",
      "Product Rating Rating + 5\n",
      "----------------*---------------*---------------*-------------*---------------*\n",
      "Product Name ABS Master Gaming PC - Windows 10 Home - Intel i7 11700F - GeForce RTX 3060 Ti - 16GB DDR4 3000MHz - 1TB M.2 NVMe SSD\n",
      "Product Price ₹ 144,147 –\n",
      "Product Rating Rating + 4\n",
      "----------------*---------------*---------------*-------------*---------------*\n",
      "Product Name ABS Master Gaming PC - Windows 10 Home - Intel i5 11400F - EVGA GeForce RTX 2060 - 16GB DDR4 - 512GB Intel M.2 NVMe SSD\n",
      "Product Price ₹ 99,440 –\n",
      "Product Rating Rating + 4\n",
      "----------------*---------------*---------------*-------------*---------------*\n",
      "Product Name ABS Gladiator Gaming PC - Windows 10 Home - Intel i9 11900KF - GeForce RTX 3080 - G.Skill TridentZ RGB 16GB DDR4 3200 MHz - 1TB Intel M.2 NVMe SSD\n",
      "Product Price ₹ 271,201 –\n",
      "Product Rating Rating + 4\n",
      "----------------*---------------*---------------*-------------*---------------*\n",
      "Product Name ABS Gladiator Gaming PC - Windows 10 Home - Intel i7 11700KF - GeForce RTX 3070 - G.Skill TridentZ RGB 16 GB DDR4 3200MHz - 1TB Intel M.2 NVMe SSD\n",
      "Product Price ₹ 198,647 –\n",
      "Product Rating Rating + 4\n",
      "----------------*---------------*---------------*-------------*---------------*\n",
      "Product Name ABS Master Gaming PC - Windows 10 Home - Intel i7 10700F - GeForce RTX 2060 - 16GB DDR4 3000MHz - 512GB Intel M.2 NVMe SSD\n",
      "Product Price ₹ 108,352 –\n",
      "Product Rating Rating + 4\n",
      "----------------*---------------*---------------*-------------*---------------*\n",
      "Product Name ABS Master Gaming PC - Windows 10 Home - Intel i5 10400F - GeForce RTX 3060 12GB - 16GB DDR4 3000MHz - 512GB M.2 NVMe SSD\n",
      "Product Price ₹ 126,127 –\n",
      "Product Rating Rating + 4\n",
      "----------------*---------------*---------------*-------------*---------------*\n",
      "Product Name ABS Master Gaming PC - Windows 10 Home - Intel i5 10400F - GeForce RTX 2060 - 16GB DDR4 - 512GB SSD\n",
      "Product Price ₹ 108,480 –\n",
      "Product Rating Rating + 4\n",
      "----------------*---------------*---------------*-------------*---------------*\n",
      "Product Name ABS Challenger Gaming PC - Windows 10 Home - Intel i5 11400F - GeForce GTX 1660 Super - 16GB DDR4 3000MHz - 512GB M.2 NVMe SSD\n",
      "Product Price ₹ 103,961 –\n",
      "Product Rating Rating + 5\n",
      "----------------*---------------*---------------*-------------*---------------*\n",
      "Product Name ABS Master Gaming PC - Windows 10 Home - Intel i5 11400F - GeForce RTX 2060 6GB - 16GB DDR4 3000MHz - 512GB Intel M.2 NVMe SSD - White\n",
      "Product Price ₹ 95,369 –\n",
      "Product Rating Rating + 4\n",
      "----------------*---------------*---------------*-------------*---------------*\n",
      "Product Name ABS Master Gaming PC - Windows 10 Home - Intel i7 10700F - GeForce RTX 3060 - 16GB DDR4 3000MHz - 1TB Intel M.2 NVMe SSD - EVGA XR1 Capture Device\n",
      "Product Price ₹ 144,470 –\n",
      "Product Rating Rating + 4\n",
      "----------------*---------------*---------------*-------------*---------------*\n",
      "Product Name ABS Gladiator Gaming PC - Windows 10 Home - Intel i7 11700KF - GIGABYTE GAMING OC GeForce RTX 3070 8GB - G.Skill TridentZ RGB 16GB DDR4 3200MHz - 1TB Intel M.2 NVMe SSD - EVGA CLC 280MM RGB AIO\n",
      "Product Price ₹ 212,506 –\n",
      "Product Rating Rating + 4\n",
      "----------------*---------------*---------------*-------------*---------------*\n",
      "Product Name ABS Master Gaming PC - Windows 10 Home - AMD Ryzen 5 5600G - Radeon RX 6600 - 16GB DDR4 3000MHz - 1TB M.2 NVMe SSD\n",
      "Product Price ₹ 126,411 (2 Offers)–\n",
      "Product Rating Rating + 5\n",
      "----------------*---------------*---------------*-------------*---------------*\n",
      "Product Name ABS Legend Gaming PC - Windows 10 Home - Intel i9 11900KF - GeForce RTX 3080 Ti - G.Skill TridentZ RGB 16GB DDR4 3200 MHz - 1TB Intel M.2 NVMe SSD\n",
      "Product Price ₹ 351,356 –\n",
      "Product Rating Rating + 5\n",
      "----------------*---------------*---------------*-------------*---------------*\n",
      "Product Name ABS Master Gaming PC - Windows 10 Home - Intel i7 11700F - GeForce RTX 3060 Ti - G.Skill TridentZ 16GB DDR4 3200MHz - 1TB M.2 NVMe SSD - EVGA AIO Cooler\n",
      "Product Price ₹ 162,165 –\n",
      "Product Rating Rating + 4\n",
      "----------------*---------------*---------------*-------------*---------------*\n",
      "Product Name ABS Gladiator Gaming PC - Windows 10 Home - Intel i7 12700KF - GeForce RTX 3070 - G.Skill TridentZ RGB 16GB DDR4 3200 MHz - 1TB Intel M.2 NVMe SSD\n",
      "Product Price ₹ 207,676 (2 Offers)–\n",
      "Product Rating Rating + 4\n",
      "----------------*---------------*---------------*-------------*---------------*\n",
      "Product Name ABS Master Gaming PC - Windows 10 Home - Intel i5 10400F - ASUS Dual GeForce RTX 3060 Ti 8GB - 16GB DDR4 3200MHz - 512GB Intel 660P M.2 NVMe SSD\n",
      "Product Price ₹ 135,641 –\n",
      "Product Rating Rating + 5\n",
      "----------------*---------------*---------------*-------------*---------------*\n",
      "Product Name ABS Master Gaming PC - Windows 10 Home - Intel i5 10600K - GeForce RTX 3060 12GB - 16GB DDR4 3000MHz - 512GB SSD\n",
      "Product Price ₹ 126,560 –\n",
      "Product Rating Rating + 4\n",
      "----------------*---------------*---------------*-------------*---------------*\n",
      "Product Name ASRock Radeon RX 6900 XT PHANTOM GAMING D Graphics Card 16GB GDDR6, AMD RDNA2 (RX6900XT PGD 16GO)\n",
      "Product Price ₹ 157,161 (2 Offers)–\n",
      "Product Rating Rating + 4\n",
      "----------------*---------------*---------------*-------------*---------------*\n",
      "Product Name MSI Ventus GeForce RTX 3090 24GB GDDR6X PCI Express 4.0 SLI Support Video Card RTX 3090 VENTUS 3X 24G OC\n",
      "Product Price ₹ 293,786 –\n",
      "Product Rating Rating + 4\n",
      "----------------*---------------*---------------*-------------*---------------*\n",
      "Product Name Sapphire Nitro+ AMD Radeon RX 6700 XT Gaming OC 12GB GDDR6 HDMI / Triple DP (11306-01-20G)\n",
      "Product Price ₹ 105,591 –\n",
      "Product Rating Rating + 5\n",
      "----------------*---------------*---------------*-------------*---------------*\n",
      "Product Name MSI Ventus GeForce GTX 1650 4GB GDDR6 PCI Express 3.0 x16 Video Card GTX 1650 D6 VENTUS XS OCV1\n",
      "Product Price ₹ 35,678 –\n",
      "Product Rating Rating + 4\n",
      "----------------*---------------*---------------*-------------*---------------*\n",
      "Product Name ZOTAC GAMING GeForce GTX 1650 OC 4GB GDDR6 128-bit Gaming Graphics Card, Super Compact, ZT-T16520F-10L\n",
      "Product Price ₹ 31,881 –\n",
      "Product Rating Rating + 5\n",
      "----------------*---------------*---------------*-------------*---------------*\n",
      "Product Name GIGABYTE Radeon RX 6700 XT GAMING OC 12G Graphics Card, WINDFORCE 3X Cooling System, 12GB 192-bit GDDR6, GV-R67XTGAMING OC-12GD Video Card\n",
      "Product Price ₹ 97,570 (2 Offers)–\n",
      "Product Rating Rating + 5\n",
      "----------------*---------------*---------------*-------------*---------------*\n",
      "Product Name GIGABYTE Geforce RTX 2060 OC 6G Graphics Card, 2 x WINDFORCE Fans, 6GB 192-Bit GDDR6, GV-N2060OC-6GD Video Card\n",
      "Product Price ₹ 73,634 (2 Offers)–\n",
      "Product Rating Rating + 4\n",
      "----------------*---------------*---------------*-------------*---------------*\n",
      "Product Name ASRock OC Formula Radeon RX 6900 XT 16GB GDDR6 PCI Express 4.0 ATX Video Card RX6900XT OCF 16G\n",
      "Product Price ₹ 184,867 –\n",
      "Product Rating Rating + 4\n",
      "----------------*---------------*---------------*-------------*---------------*\n",
      "Product Name XFX SPEEDSTER QICK319 AMD Radeon RX 6700 XT BLACK Gaming Graphics Card with 12GB GDDR6, HDMI 3 x DP, AMD RDNA 2\n",
      "Product Price ₹ 99,431 (2 Offers)–\n",
      "Product Rating Rating + 5\n",
      "----------------*---------------*---------------*-------------*---------------*\n",
      "Product Name MSI Gaming Radeon RX 6900 XT 16GB GDDR6 PCI Express 4.0 Video Card RX 6900 XT GAMING Z TRIO 16G\n",
      "Product Price ₹ 170,311 (3 Offers)–\n",
      "Product Rating Rating + 5\n",
      "----------------*---------------*---------------*-------------*---------------*\n",
      "Product Name SAPPHIRE Toxic Radeon RX 6900 XT 16GB GDDR6 PCI Express 4.0 ATX Video Card 11308-06-20G\n",
      "Product Price ₹ 180,407 (3 Offers)–\n",
      "Product Rating Rating + 5\n",
      "----------------*---------------*---------------*-------------*---------------*\n",
      "Product Name MSI Ventus GeForce GTX 1650 4GB GDDR6 PCI Express 3.0 x16 Video Card GTX 1650 D6 Ventus XS OC\n",
      "Product Price ₹ 35,678 (3 Offers)–\n",
      "Product Rating Rating + 5\n",
      "----------------*---------------*---------------*-------------*---------------*\n",
      "Product Name ASUS GeForce GT 1030 2GB Phoenix Fan OC Edition HDMI DVI Graphics Card (PH-GT1030-O2G)\n",
      "Product Price ₹ 7,541 (2 Offers)–\n",
      "Product Rating Rating + 5\n",
      "----------------*---------------*---------------*-------------*---------------*\n",
      "Product Name ASUS Dual GeForce RTX 2060 Advanced OC EVO Graphics Card 6GB 192-Bit GDDR6 PCIe 3.0 x16 DirectX 12 HDCP Ready Auto-Extreme Technology 1x DVI-D 2X HDMI 2.0b 1x DisplayPort 1.4,(DUAL-RTX2060-O6G-EVO)\n",
      "Product Price ₹ 58,734 –\n",
      "Product Rating Rating + 5\n",
      "----------------*---------------*---------------*-------------*---------------*\n"
     ]
    }
   ],
   "source": [
    "\n",
    "for container in containers:\n",
    "    try:\n",
    "        #title = container.find('div', class_='item-info').div.a.img['title']    \n",
    "        product_name = container.a.img['title']\n",
    "        price_container = container.findAll('li', {'class':'price-current'})    \n",
    "        product_price = price_container[0].text\n",
    "        product_rating = container.find('div', class_='item-branding').find('a', class_='item-rating')['title']\n",
    "    except:\n",
    "        continue\n",
    "        \n",
    "    #print(\"Title\", title)    \n",
    "    print(\"Product Name\", product_name)\n",
    "    print(\"Product Price\", product_price)\n",
    "    print(\"Product Rating\", product_rating)\n",
    "    print('----------------*---------------*---------------*-------------*---------------*')"
   ]
  },
  {
   "cell_type": "code",
   "execution_count": null,
   "metadata": {},
   "outputs": [],
   "source": []
  }
 ],
 "metadata": {
  "kernelspec": {
   "display_name": "Python 3",
   "language": "python",
   "name": "python3"
  },
  "language_info": {
   "codemirror_mode": {
    "name": "ipython",
    "version": 3
   },
   "file_extension": ".py",
   "mimetype": "text/x-python",
   "name": "python",
   "nbconvert_exporter": "python",
   "pygments_lexer": "ipython3",
   "version": "3.8.5"
  }
 },
 "nbformat": 4,
 "nbformat_minor": 4
}
